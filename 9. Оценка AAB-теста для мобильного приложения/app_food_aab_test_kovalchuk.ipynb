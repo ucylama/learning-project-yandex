{
 "cells": [
  {
   "cell_type": "markdown",
   "metadata": {},
   "source": [
    "# Анализ воронки событий и результатов А/А/В-теста <a name=\"0\"></a>"
   ]
  },
  {
   "cell_type": "markdown",
   "metadata": {},
   "source": [
    "Исследование поводилось для магазина продуктов питания, пользователи которого делают заказы на дом через приложение.  \n",
    "  \n",
    "**Задачи проекта:** \n",
    "* изучить поведение пользователей,  \n",
    "* выявить \"узкие\" места по воронке событий,  \n",
    "* оценить результаты А/А/В-теста для нового шрифта в приложении,  \n",
    "* дать рекомендации.  "
   ]
  },
  {
   "cell_type": "markdown",
   "metadata": {},
   "source": [
    "____\n",
    "### Оглавление"
   ]
  },
  {
   "cell_type": "markdown",
   "metadata": {},
   "source": [
    "#### [Часть 1. Первичное изучение полученных данных](#1)\n",
    "\n",
    "   [1.1 Загрузка библиотек и файлов с данными](#1.1)  \n",
    "   [1.2 Изучение основных параметров датафрейма](#1.2)  \n",
    "   [1.3 Выводы: описание полученных данных и основных проблем](#1.3)  \n",
    "   \n",
    "#### [Часть 2. Подготовка данных к анализу](#2)\n",
    "\n",
    "   [2.1 Устранение проблем в данных](#2.1)  \n",
    "   [2.2 Изучение содержания логов и качества данных](#2.2)  \n",
    "   [2.3 Выводы](#2.3)  \n",
    "   \n",
    "#### [Часть 3. Анализ поведения пользователей через воронку событий](#3)\n",
    "\n",
    "   [3.1 Сформулируем воронку событий](#3.1)  \n",
    "   [3.2 Описание ключевых событий](#3.2)  \n",
    "   [3.3 Визуализация воронки ключевых событий](#3.3)  \n",
    "   [3.4 Выводы](#3.4)  \n",
    "   \n",
    "#### [Часть 4. Анализ результатов А/А/В-теста](#4)\n",
    "\n",
    "   [4.1 Проверка статистической значимости результатов теста](#4.1)  \n",
    "   [4.2 Выводы](#4.2)  \n",
    "   \n",
    "#### [Часть 5. Общие выводы и рекомендации](#5)"
   ]
  },
  {
   "cell_type": "markdown",
   "metadata": {},
   "source": [
    "# Часть 1. Первичное изучение полученных данных <a name='1'></a>"
   ]
  },
  {
   "cell_type": "markdown",
   "metadata": {},
   "source": [
    "### 1.1 Загрузка библиотек и файлов с данными <a name=\"1.1\"></a>"
   ]
  },
  {
   "cell_type": "code",
   "execution_count": 1,
   "metadata": {},
   "outputs": [],
   "source": [
    "import numpy as np\n",
    "import pandas as pd\n",
    "import datetime as dt\n",
    "\n",
    "# визуализация\n",
    "import seaborn as sns\n",
    "from plotly import graph_objects as go \n",
    "import matplotlib.pyplot as plt\n",
    "from pandas.plotting import register_matplotlib_converters\n",
    "register_matplotlib_converters() # для корректной работы с графиками matplotlib\n",
    "\n",
    "# дефолтные параметры отображения графиков plotly\n",
    "import plotly.io as pio\n",
    "svg_renderer = pio.renderers[\"svg\"]\n",
    "svg_renderer.scale = 1.2\n",
    "pio.renderers.default = \"svg\"\n",
    "\n",
    "# для работы с А/А/В-тестом\n",
    "from scipy import stats as st\n",
    "import math as mth"
   ]
  },
  {
   "cell_type": "code",
   "execution_count": 2,
   "metadata": {},
   "outputs": [
    {
     "data": {
      "text/html": [
       "<div>\n",
       "<style scoped>\n",
       "    .dataframe tbody tr th:only-of-type {\n",
       "        vertical-align: middle;\n",
       "    }\n",
       "\n",
       "    .dataframe tbody tr th {\n",
       "        vertical-align: top;\n",
       "    }\n",
       "\n",
       "    .dataframe thead th {\n",
       "        text-align: right;\n",
       "    }\n",
       "</style>\n",
       "<table border=\"1\" class=\"dataframe\">\n",
       "  <thead>\n",
       "    <tr style=\"text-align: right;\">\n",
       "      <th></th>\n",
       "      <th>EventName</th>\n",
       "      <th>DeviceIDHash</th>\n",
       "      <th>EventTimestamp</th>\n",
       "      <th>ExpId</th>\n",
       "    </tr>\n",
       "  </thead>\n",
       "  <tbody>\n",
       "    <tr>\n",
       "      <th>0</th>\n",
       "      <td>MainScreenAppear</td>\n",
       "      <td>4575588528974610257</td>\n",
       "      <td>1564029816</td>\n",
       "      <td>246</td>\n",
       "    </tr>\n",
       "    <tr>\n",
       "      <th>1</th>\n",
       "      <td>MainScreenAppear</td>\n",
       "      <td>7416695313311560658</td>\n",
       "      <td>1564053102</td>\n",
       "      <td>246</td>\n",
       "    </tr>\n",
       "    <tr>\n",
       "      <th>2</th>\n",
       "      <td>PaymentScreenSuccessful</td>\n",
       "      <td>3518123091307005509</td>\n",
       "      <td>1564054127</td>\n",
       "      <td>248</td>\n",
       "    </tr>\n",
       "  </tbody>\n",
       "</table>\n",
       "</div>"
      ],
      "text/plain": [
       "                 EventName         DeviceIDHash  EventTimestamp  ExpId\n",
       "0         MainScreenAppear  4575588528974610257      1564029816    246\n",
       "1         MainScreenAppear  7416695313311560658      1564053102    246\n",
       "2  PaymentScreenSuccessful  3518123091307005509      1564054127    248"
      ]
     },
     "execution_count": 2,
     "metadata": {},
     "output_type": "execute_result"
    }
   ],
   "source": [
    "logs_data = pd.read_csv('datasets/9_logs_exp.csv', sep='\\t')\n",
    "logs_data.head(3)"
   ]
  },
  {
   "cell_type": "markdown",
   "metadata": {},
   "source": [
    "### 1.2 Изучение основных параметров датафрейма <a name=\"1.2\"></a>"
   ]
  },
  {
   "cell_type": "code",
   "execution_count": 3,
   "metadata": {},
   "outputs": [],
   "source": [
    "# функция для изучения ключевых параметров\n",
    "def df_info(data):\n",
    "    print('\\033[1m\\033[34mПервые строки таблицы:\\033[0m')\n",
    "    display(data.head(3))\n",
    "    print('\\033[1m\\033[34mОбщая информация о данных в таблице:\\033[0m')\n",
    "    display(data.info())\n",
    "    print('\\033[1m\\033[34mКоличество дубликатов:\\033[0m {}'.format(data.duplicated().sum()))"
   ]
  },
  {
   "cell_type": "code",
   "execution_count": 4,
   "metadata": {},
   "outputs": [
    {
     "name": "stdout",
     "output_type": "stream",
     "text": [
      "\u001b[1m\u001b[34mПервые строки таблицы:\u001b[0m\n"
     ]
    },
    {
     "data": {
      "text/html": [
       "<div>\n",
       "<style scoped>\n",
       "    .dataframe tbody tr th:only-of-type {\n",
       "        vertical-align: middle;\n",
       "    }\n",
       "\n",
       "    .dataframe tbody tr th {\n",
       "        vertical-align: top;\n",
       "    }\n",
       "\n",
       "    .dataframe thead th {\n",
       "        text-align: right;\n",
       "    }\n",
       "</style>\n",
       "<table border=\"1\" class=\"dataframe\">\n",
       "  <thead>\n",
       "    <tr style=\"text-align: right;\">\n",
       "      <th></th>\n",
       "      <th>EventName</th>\n",
       "      <th>DeviceIDHash</th>\n",
       "      <th>EventTimestamp</th>\n",
       "      <th>ExpId</th>\n",
       "    </tr>\n",
       "  </thead>\n",
       "  <tbody>\n",
       "    <tr>\n",
       "      <th>0</th>\n",
       "      <td>MainScreenAppear</td>\n",
       "      <td>4575588528974610257</td>\n",
       "      <td>1564029816</td>\n",
       "      <td>246</td>\n",
       "    </tr>\n",
       "    <tr>\n",
       "      <th>1</th>\n",
       "      <td>MainScreenAppear</td>\n",
       "      <td>7416695313311560658</td>\n",
       "      <td>1564053102</td>\n",
       "      <td>246</td>\n",
       "    </tr>\n",
       "    <tr>\n",
       "      <th>2</th>\n",
       "      <td>PaymentScreenSuccessful</td>\n",
       "      <td>3518123091307005509</td>\n",
       "      <td>1564054127</td>\n",
       "      <td>248</td>\n",
       "    </tr>\n",
       "  </tbody>\n",
       "</table>\n",
       "</div>"
      ],
      "text/plain": [
       "                 EventName         DeviceIDHash  EventTimestamp  ExpId\n",
       "0         MainScreenAppear  4575588528974610257      1564029816    246\n",
       "1         MainScreenAppear  7416695313311560658      1564053102    246\n",
       "2  PaymentScreenSuccessful  3518123091307005509      1564054127    248"
      ]
     },
     "metadata": {},
     "output_type": "display_data"
    },
    {
     "name": "stdout",
     "output_type": "stream",
     "text": [
      "\u001b[1m\u001b[34mОбщая информация о данных в таблице:\u001b[0m\n",
      "<class 'pandas.core.frame.DataFrame'>\n",
      "RangeIndex: 244126 entries, 0 to 244125\n",
      "Data columns (total 4 columns):\n",
      " #   Column          Non-Null Count   Dtype \n",
      "---  ------          --------------   ----- \n",
      " 0   EventName       244126 non-null  object\n",
      " 1   DeviceIDHash    244126 non-null  int64 \n",
      " 2   EventTimestamp  244126 non-null  int64 \n",
      " 3   ExpId           244126 non-null  int64 \n",
      "dtypes: int64(3), object(1)\n",
      "memory usage: 7.5+ MB\n"
     ]
    },
    {
     "data": {
      "text/plain": [
       "None"
      ]
     },
     "metadata": {},
     "output_type": "display_data"
    },
    {
     "name": "stdout",
     "output_type": "stream",
     "text": [
      "\u001b[1m\u001b[34mКоличество дубликатов:\u001b[0m 413\n"
     ]
    }
   ],
   "source": [
    "df_info(logs_data)"
   ]
  },
  {
   "cell_type": "code",
   "execution_count": 5,
   "metadata": {},
   "outputs": [],
   "source": [
    "# скорректируем названия столбцов\n",
    "logs_data = logs_data.rename(columns={'EventName':'event_name',\n",
    "                                      'DeviceIDHash':'user_id',\n",
    "                                      'EventTimestamp':'event_datetime',\n",
    "                                      'ExpId':'group_id'})"
   ]
  },
  {
   "cell_type": "markdown",
   "metadata": {},
   "source": [
    "### 1.3 Выводы: описание полученных данных и основных проблем <a name='1.3'></a>"
   ]
  },
  {
   "cell_type": "markdown",
   "metadata": {},
   "source": [
    "В датафрейме хранятся данные о логах в приложении для трех групп пользователей A/A/B-теста:  \n",
    "* 246 и 247 — две контрольные группы (А1 и А2)  \n",
    "* 248 — тестовая группа, которая видит приложение с новыми шрифтами (В)  \n",
    "  \n",
    "В таблице 4 колонки:  \n",
    "* `event_name` содержит название события в приложении,  \n",
    "* `user_id` — уникальный ID пользователя,  \n",
    "* `event_datetime` — время, когда событие было совершено,  \n",
    "* `group_id` идентификатор группы A/A/B-теста.  \n",
    "Для удобства работы с данными первоначальные наименования столбцов были заменены.  \n",
    "  \n",
    "Пропуски в данных не обнаружены, есть необходимость заменить тип данных для колонки `event_timestamp` с int на datetime, а также удалить полные дубликаты — 413 штук строк."
   ]
  },
  {
   "cell_type": "markdown",
   "metadata": {},
   "source": [
    "# Часть 2. Подготовка данных к анализу <a name='2'></a>"
   ]
  },
  {
   "cell_type": "markdown",
   "metadata": {},
   "source": [
    "### 2.1 Устранение проблем в данных <a name='2.1'></a>"
   ]
  },
  {
   "cell_type": "code",
   "execution_count": 6,
   "metadata": {
    "scrolled": true
   },
   "outputs": [],
   "source": [
    "# удалим дубликаты\n",
    "logs_data = logs_data.drop_duplicates().reset_index(drop=True)"
   ]
  },
  {
   "cell_type": "code",
   "execution_count": 7,
   "metadata": {},
   "outputs": [],
   "source": [
    "# корректировка типа данных о дате и времени\n",
    "logs_data['event_datetime'] = logs_data['event_datetime'].map(lambda x: pd.Timestamp(x, unit='s'))\n",
    "logs_data['event_date'] = pd.to_datetime(logs_data['event_datetime'].dt.date)"
   ]
  },
  {
   "cell_type": "code",
   "execution_count": 8,
   "metadata": {},
   "outputs": [
    {
     "name": "stdout",
     "output_type": "stream",
     "text": [
      "<class 'pandas.core.frame.DataFrame'>\n",
      "RangeIndex: 243713 entries, 0 to 243712\n",
      "Data columns (total 5 columns):\n",
      " #   Column          Non-Null Count   Dtype         \n",
      "---  ------          --------------   -----         \n",
      " 0   event_name      243713 non-null  object        \n",
      " 1   user_id         243713 non-null  int64         \n",
      " 2   event_datetime  243713 non-null  datetime64[ns]\n",
      " 3   group_id        243713 non-null  int64         \n",
      " 4   event_date      243713 non-null  datetime64[ns]\n",
      "dtypes: datetime64[ns](2), int64(2), object(1)\n",
      "memory usage: 9.3+ MB\n"
     ]
    }
   ],
   "source": [
    "# проверим результат\n",
    "logs_data.info()"
   ]
  },
  {
   "cell_type": "code",
   "execution_count": 9,
   "metadata": {},
   "outputs": [
    {
     "data": {
      "text/html": [
       "<div>\n",
       "<style scoped>\n",
       "    .dataframe tbody tr th:only-of-type {\n",
       "        vertical-align: middle;\n",
       "    }\n",
       "\n",
       "    .dataframe tbody tr th {\n",
       "        vertical-align: top;\n",
       "    }\n",
       "\n",
       "    .dataframe thead th {\n",
       "        text-align: right;\n",
       "    }\n",
       "</style>\n",
       "<table border=\"1\" class=\"dataframe\">\n",
       "  <thead>\n",
       "    <tr style=\"text-align: right;\">\n",
       "      <th></th>\n",
       "      <th>event_name</th>\n",
       "      <th>user_id</th>\n",
       "      <th>event_datetime</th>\n",
       "      <th>group_id</th>\n",
       "      <th>event_date</th>\n",
       "    </tr>\n",
       "  </thead>\n",
       "  <tbody>\n",
       "    <tr>\n",
       "      <th>0</th>\n",
       "      <td>MainScreenAppear</td>\n",
       "      <td>4575588528974610257</td>\n",
       "      <td>2019-07-25 04:43:36</td>\n",
       "      <td>246</td>\n",
       "      <td>2019-07-25</td>\n",
       "    </tr>\n",
       "    <tr>\n",
       "      <th>1</th>\n",
       "      <td>MainScreenAppear</td>\n",
       "      <td>7416695313311560658</td>\n",
       "      <td>2019-07-25 11:11:42</td>\n",
       "      <td>246</td>\n",
       "      <td>2019-07-25</td>\n",
       "    </tr>\n",
       "    <tr>\n",
       "      <th>2</th>\n",
       "      <td>PaymentScreenSuccessful</td>\n",
       "      <td>3518123091307005509</td>\n",
       "      <td>2019-07-25 11:28:47</td>\n",
       "      <td>248</td>\n",
       "      <td>2019-07-25</td>\n",
       "    </tr>\n",
       "  </tbody>\n",
       "</table>\n",
       "</div>"
      ],
      "text/plain": [
       "                event_name              user_id      event_datetime  group_id  \\\n",
       "0         MainScreenAppear  4575588528974610257 2019-07-25 04:43:36       246   \n",
       "1         MainScreenAppear  7416695313311560658 2019-07-25 11:11:42       246   \n",
       "2  PaymentScreenSuccessful  3518123091307005509 2019-07-25 11:28:47       248   \n",
       "\n",
       "  event_date  \n",
       "0 2019-07-25  \n",
       "1 2019-07-25  \n",
       "2 2019-07-25  "
      ]
     },
     "execution_count": 9,
     "metadata": {},
     "output_type": "execute_result"
    }
   ],
   "source": [
    "logs_data.head(3)"
   ]
  },
  {
   "cell_type": "markdown",
   "metadata": {},
   "source": [
    "### 2.2 Изучение содержания логов и качества данных <a name='2.2'></a>"
   ]
  },
  {
   "cell_type": "code",
   "execution_count": 10,
   "metadata": {},
   "outputs": [
    {
     "name": "stdout",
     "output_type": "stream",
     "text": [
      "Количество событий: 243713\n",
      "Количество пользователей: 7551\n",
      "Кол-во событий на пользователя: среднее 32.3 и медиана 20.0\n"
     ]
    }
   ],
   "source": [
    "print('Количество событий: {}'.format(logs_data['event_name'].count()), \n",
    "      'Количество пользователей: {}'.format(logs_data['user_id'].nunique()), \n",
    "      'Кол-во событий на пользователя: среднее {:.1f} и медиана {:.1f}'.format(logs_data.groupby('user_id')\n",
    "                                                                                        .agg({'event_name':'count'})\n",
    "                                                                                        ['event_name']\n",
    "                                                                                        .mean(), \n",
    "                                                                               logs_data.groupby('user_id')\n",
    "                                                                                        .agg({'event_name':'count'})\n",
    "                                                                                        ['event_name']\n",
    "                                                                                        .median()),\n",
    "      sep='\\n')"
   ]
  },
  {
   "cell_type": "code",
   "execution_count": 11,
   "metadata": {},
   "outputs": [
    {
     "name": "stdout",
     "output_type": "stream",
     "text": [
      "Виды событий:\n",
      "['MainScreenAppear' 'PaymentScreenSuccessful' 'CartScreenAppear'\n",
      " 'OffersScreenAppear' 'Tutorial']\n"
     ]
    }
   ],
   "source": [
    "print('Виды событий:', '{}'.format(logs_data['event_name'].unique()), sep='\\n')"
   ]
  },
  {
   "cell_type": "code",
   "execution_count": 12,
   "metadata": {},
   "outputs": [
    {
     "name": "stdout",
     "output_type": "stream",
     "text": [
      "В таблице хранятся данные за период с 2019-07-25 по 2019-08-07\n"
     ]
    }
   ],
   "source": [
    "print('В таблице хранятся данные за период с {} по {}'.format(logs_data['event_date'].min().date(), \n",
    "                                                              logs_data['event_date'].max().date()))"
   ]
  },
  {
   "cell_type": "code",
   "execution_count": 13,
   "metadata": {},
   "outputs": [
    {
     "data": {
      "text/plain": [
       "Text(0.5, 0, 'Дата события')"
      ]
     },
     "execution_count": 13,
     "metadata": {},
     "output_type": "execute_result"
    },
    {
     "data": {
      "image/png": "[encoded data removed]",
      "text/plain": [
       "<Figure size 1368x720 with 1 Axes>"
      ]
     },
     "metadata": {},
     "output_type": "display_data"
    }
   ],
   "source": [
    "# основные настройки для отображения графиков\n",
    "sns.set(rc={\"figure.figsize\":(19, 10)}, font_scale=1, style='darkgrid', palette='rainbow')\n",
    "\n",
    "# построим гистограмму для событий для всего периода\n",
    "logs_data['event_date'].hist(bins=50)\n",
    "plt.title('Распределение событий по датам')\n",
    "plt.xlabel('Дата события')"
   ]
  },
  {
   "cell_type": "markdown",
   "metadata": {},
   "source": [
    "По гистограмме событий за весь период видно, что события распределены неравномерно и основная масса данных приходится на период с 1 по 7 августа 2019 года. Более ранние данные могут влиять на результаты, поэтому отбросим неполные данные о событиях, свершенных ранее 1 августа."
   ]
  },
  {
   "cell_type": "code",
   "execution_count": 14,
   "metadata": {},
   "outputs": [
    {
     "name": "stdout",
     "output_type": "stream",
     "text": [
      "Кол-во событий до 31.07.2019 включительно: 2826\n",
      "Кол-во пользователей, совершивших эти события: 1451\n"
     ]
    }
   ],
   "source": [
    "print('Кол-во событий до 31.07.2019 включительно: {}'.format(logs_data.query('event_date <= \"2019-07-31\"')\n",
    "                                                             ['event_name']\n",
    "                                                             .count()),\n",
    "      'Кол-во пользователей, совершивших эти события: {}'.format(logs_data.query('event_date <= \"2019-07-31\"')\n",
    "                                                                 ['user_id']\n",
    "                                                                 .nunique()), \n",
    "      sep='\\n')"
   ]
  },
  {
   "cell_type": "code",
   "execution_count": 15,
   "metadata": {},
   "outputs": [],
   "source": [
    "# сохраним корректную информацию в новый датафрейм\n",
    "correct_logs = logs_data.query('event_date > \"2019-07-31\"').reset_index(drop=True).copy()"
   ]
  },
  {
   "cell_type": "code",
   "execution_count": 16,
   "metadata": {},
   "outputs": [
    {
     "data": {
      "text/html": [
       "<div>\n",
       "<style scoped>\n",
       "    .dataframe tbody tr th:only-of-type {\n",
       "        vertical-align: middle;\n",
       "    }\n",
       "\n",
       "    .dataframe tbody tr th {\n",
       "        vertical-align: top;\n",
       "    }\n",
       "\n",
       "    .dataframe thead th {\n",
       "        text-align: right;\n",
       "    }\n",
       "</style>\n",
       "<table border=\"1\" class=\"dataframe\">\n",
       "  <thead>\n",
       "    <tr style=\"text-align: right;\">\n",
       "      <th></th>\n",
       "      <th>user_id</th>\n",
       "    </tr>\n",
       "    <tr>\n",
       "      <th>group_id</th>\n",
       "      <th></th>\n",
       "    </tr>\n",
       "  </thead>\n",
       "  <tbody>\n",
       "    <tr>\n",
       "      <th>246</th>\n",
       "      <td>2484</td>\n",
       "    </tr>\n",
       "    <tr>\n",
       "      <th>247</th>\n",
       "      <td>2513</td>\n",
       "    </tr>\n",
       "    <tr>\n",
       "      <th>248</th>\n",
       "      <td>2537</td>\n",
       "    </tr>\n",
       "  </tbody>\n",
       "</table>\n",
       "</div>"
      ],
      "text/plain": [
       "          user_id\n",
       "group_id         \n",
       "246          2484\n",
       "247          2513\n",
       "248          2537"
      ]
     },
     "execution_count": 16,
     "metadata": {},
     "output_type": "execute_result"
    }
   ],
   "source": [
    "# изучим кол-во пользователей в группах А/А/В-теста\n",
    "correct_logs.groupby('group_id').agg({'user_id':'nunique'})"
   ]
  },
  {
   "cell_type": "markdown",
   "metadata": {},
   "source": [
    "### 2.3 Выводы <a name='2.3'></a>"
   ]
  },
  {
   "cell_type": "markdown",
   "metadata": {},
   "source": [
    "В процессе изучения гистограммы было выявлено, что за период с 25 по 31 июля в датафрейме хранятся неполные данные о совершенных пользователями событий — это ~1,16% от общего количества событий для ~19% пользователей. Наиболее полные данные есть за период с 1 по 7 августа 2019, срез корректных данных хранится в таблице `correct_logs`.  \n",
    "  \n",
    "Все события разделены на 5 видов:  \n",
    "* `MainScreenAppear` — просмотр главного экрана,  \n",
    "* `PaymentScreenSuccessful` — покупка успешно совершена,  \n",
    "* `CartScreenAppear` — переход в корзину,  \n",
    "* `OffersScreenAppear` — появился экран предложния (карточка товара),  \n",
    "* `Tutorial` — инструкции.  \n",
    "  \n",
    "В таблице представлены все три группы А/А/В-теста."
   ]
  },
  {
   "cell_type": "markdown",
   "metadata": {},
   "source": [
    "# Часть 3. Анализ поведения пользователей через воронку событий <a name='3'></a>"
   ]
  },
  {
   "cell_type": "markdown",
   "metadata": {},
   "source": [
    "### 3.1 Сформулируем воронку событий"
   ]
  },
  {
   "cell_type": "code",
   "execution_count": 17,
   "metadata": {},
   "outputs": [
    {
     "data": {
      "text/html": [
       "<div>\n",
       "<style scoped>\n",
       "    .dataframe tbody tr th:only-of-type {\n",
       "        vertical-align: middle;\n",
       "    }\n",
       "\n",
       "    .dataframe tbody tr th {\n",
       "        vertical-align: top;\n",
       "    }\n",
       "\n",
       "    .dataframe thead th {\n",
       "        text-align: right;\n",
       "    }\n",
       "</style>\n",
       "<table border=\"1\" class=\"dataframe\">\n",
       "  <thead>\n",
       "    <tr style=\"text-align: right;\">\n",
       "      <th></th>\n",
       "      <th>event_name</th>\n",
       "      <th>event_cnt</th>\n",
       "      <th>user_cnt</th>\n",
       "      <th>part_users_of_all</th>\n",
       "    </tr>\n",
       "  </thead>\n",
       "  <tbody>\n",
       "    <tr>\n",
       "      <th>0</th>\n",
       "      <td>MainScreenAppear</td>\n",
       "      <td>117328</td>\n",
       "      <td>7419</td>\n",
       "      <td>98.47</td>\n",
       "    </tr>\n",
       "    <tr>\n",
       "      <th>1</th>\n",
       "      <td>OffersScreenAppear</td>\n",
       "      <td>46333</td>\n",
       "      <td>4593</td>\n",
       "      <td>60.96</td>\n",
       "    </tr>\n",
       "    <tr>\n",
       "      <th>2</th>\n",
       "      <td>CartScreenAppear</td>\n",
       "      <td>42303</td>\n",
       "      <td>3734</td>\n",
       "      <td>49.56</td>\n",
       "    </tr>\n",
       "    <tr>\n",
       "      <th>3</th>\n",
       "      <td>PaymentScreenSuccessful</td>\n",
       "      <td>33918</td>\n",
       "      <td>3539</td>\n",
       "      <td>46.97</td>\n",
       "    </tr>\n",
       "    <tr>\n",
       "      <th>4</th>\n",
       "      <td>Tutorial</td>\n",
       "      <td>1005</td>\n",
       "      <td>840</td>\n",
       "      <td>11.15</td>\n",
       "    </tr>\n",
       "  </tbody>\n",
       "</table>\n",
       "</div>"
      ],
      "text/plain": [
       "                event_name  event_cnt  user_cnt  part_users_of_all\n",
       "0         MainScreenAppear     117328      7419              98.47\n",
       "1       OffersScreenAppear      46333      4593              60.96\n",
       "2         CartScreenAppear      42303      3734              49.56\n",
       "3  PaymentScreenSuccessful      33918      3539              46.97\n",
       "4                 Tutorial       1005       840              11.15"
      ]
     },
     "execution_count": 17,
     "metadata": {},
     "output_type": "execute_result"
    }
   ],
   "source": [
    "# отсортируем таблицу по частоте событий и числу пользователей\n",
    "funnel = (correct_logs\n",
    "          .groupby('event_name')\n",
    "          .agg({'event_datetime':'count', 'user_id':'nunique'})\n",
    "          .sort_values(by='user_id', ascending=False)\n",
    "          .reset_index())\n",
    "\n",
    "funnel.columns = ['event_name', 'event_cnt', 'user_cnt']\n",
    "\n",
    "# доля пользователей, свершивших событие от общего числа уникальных пользователей\n",
    "funnel['part_users_of_all'] = round(funnel['user_cnt'] / correct_logs['user_id'].nunique() * 100, 2)\n",
    "\n",
    "funnel"
   ]
  },
  {
   "cell_type": "code",
   "execution_count": 18,
   "metadata": {},
   "outputs": [
    {
     "data": {
      "text/html": [
       "<div>\n",
       "<style scoped>\n",
       "    .dataframe tbody tr th:only-of-type {\n",
       "        vertical-align: middle;\n",
       "    }\n",
       "\n",
       "    .dataframe tbody tr th {\n",
       "        vertical-align: top;\n",
       "    }\n",
       "\n",
       "    .dataframe thead th {\n",
       "        text-align: right;\n",
       "    }\n",
       "</style>\n",
       "<table border=\"1\" class=\"dataframe\">\n",
       "  <thead>\n",
       "    <tr style=\"text-align: right;\">\n",
       "      <th></th>\n",
       "      <th>user_id</th>\n",
       "      <th>event_datetime</th>\n",
       "    </tr>\n",
       "    <tr>\n",
       "      <th>event_name</th>\n",
       "      <th></th>\n",
       "      <th></th>\n",
       "    </tr>\n",
       "  </thead>\n",
       "  <tbody>\n",
       "    <tr>\n",
       "      <th>MainScreenAppear</th>\n",
       "      <td>836</td>\n",
       "      <td>11689</td>\n",
       "    </tr>\n",
       "    <tr>\n",
       "      <th>OffersScreenAppear</th>\n",
       "      <td>644</td>\n",
       "      <td>8030</td>\n",
       "    </tr>\n",
       "    <tr>\n",
       "      <th>CartScreenAppear</th>\n",
       "      <td>542</td>\n",
       "      <td>6658</td>\n",
       "    </tr>\n",
       "    <tr>\n",
       "      <th>PaymentScreenSuccessful</th>\n",
       "      <td>467</td>\n",
       "      <td>4301</td>\n",
       "    </tr>\n",
       "    <tr>\n",
       "      <th>Tutorial</th>\n",
       "      <td>840</td>\n",
       "      <td>1005</td>\n",
       "    </tr>\n",
       "  </tbody>\n",
       "</table>\n",
       "</div>"
      ],
      "text/plain": [
       "                         user_id  event_datetime\n",
       "event_name                                      \n",
       "MainScreenAppear             836           11689\n",
       "OffersScreenAppear           644            8030\n",
       "CartScreenAppear             542            6658\n",
       "PaymentScreenSuccessful      467            4301\n",
       "Tutorial                     840            1005"
      ]
     },
     "execution_count": 18,
     "metadata": {},
     "output_type": "execute_result"
    }
   ],
   "source": [
    "# дополнительно посмотрим, как ведут себя пользователи, которые хоть раз обращались к инструкции\n",
    "tutorial_user = correct_logs.query('event_name == \"Tutorial\"')['user_id'].unique()\n",
    "(correct_logs\n",
    " .query('user_id in @tutorial_user')\n",
    " .groupby('event_name')\n",
    " .agg({'user_id':'nunique', 'event_datetime':'count'})\n",
    " .sort_values(by='event_datetime', ascending=False)\n",
    ")"
   ]
  },
  {
   "cell_type": "markdown",
   "metadata": {},
   "source": [
    "### 3.2 Описание ключевых событий<a name='3.2'></a>  \n",
    "  \n",
    "Если описывать путь пользователя по количеству событий и уникальных пользователей на каждом этапе, то можно предположить следующий вариант пути пользователя:  \n",
    "\n",
    "Для большинства пользователей сессия начинается с захода на главный экран (MainScreenAppear), далее пользователь переходит к карточке товаров (OffersScreenAppear), потом следует в корзину (CartScreenAppear) для проверки заказа и оплаты, после успешной оплаты пользователь видит экран об успешной покупке (PaymentScreenSuccessful). Посещение раздела Tutorial не обязательно, его можно не учитывать в воронке.  \n",
    "  \n",
    "Так как OffersScreenAppear не имеет кратного увеличения по кол-ву заходов в сравнении с заходами в корзину (46333 просмотров предложения и 42303 переходов корзину), при этом здесь речь идет о приложении для покупки продуктов питания (предполагает много мелких товаров в одной корзине) — событие OffersScreenAppear не учитывает заход в каждую карточку товара, а отражает один переход в каталог для пользователя.  \n",
    "\n",
    "***Воронка ключевых событий:***  \n",
    "*главный экран (MainScreenAppear) — переход в каталог товаров (OffersScreenAppear) — переход в корзину (CartScreenAppear) — экран успешной покупки (PaymentScreenSuccessful)*  \n",
    "  \n",
    "Была гипотеза, что новые пользователи чаще начинают сессию с ознакомления с разделом Tutorial, однако, изучение данных по пользователям, которые хоть раз использовали Tutorial гипотезу не подтвердило. Наиболее вероятен сценарий, что новый пользователь заходит на главный экран и знакомится с сервисом самостоятельно. Раздел Tutorial вероятнее всего посещается либо сразу  после главного экрана, либо в случае возникновения проблем. Большая часть пользователей не заходила в этот раздел больше 1 раза.  "
   ]
  },
  {
   "cell_type": "markdown",
   "metadata": {},
   "source": [
    "### 3.3 Визуализация воронки ключевых событий <a name='3.3'></a>  "
   ]
  },
  {
   "cell_type": "code",
   "execution_count": 19,
   "metadata": {},
   "outputs": [
    {
     "data": {
      "image/svg+xml": [
       "<svg class=\"main-svg\" xmlns=\"http://www.w3.org/2000/svg\" xmlns:xlink=\"http://www.w3.org/1999/xlink\" width=\"840\" height=\"540\" style=\"\" viewBox=\"0 0 700 450\"><rect x=\"0\" y=\"0\" width=\"700\" height=\"450\" style=\"fill: rgb(255, 255, 255); fill-opacity: 1;\"/><defs id=\"defs-b9987e\"><g class=\"clips\"><clipPath id=\"clipb9987exyplot\" class=\"plotclip\"><rect width=\"450\" height=\"270\"/></clipPath><clipPath class=\"axesclip\" id=\"clipb9987ex\"><rect x=\"170\" y=\"0\" width=\"450\" height=\"450\"/></clipPath><clipPath class=\"axesclip\" id=\"clipb9987ey\"><rect x=\"0\" y=\"100\" width=\"700\" height=\"270\"/></clipPath><clipPath class=\"axesclip\" id=\"clipb9987exy\"><rect x=\"170\" y=\"100\" width=\"450\" height=\"270\"/></clipPath></g><g class=\"gradients\"/></defs><g class=\"bglayer\"><rect class=\"bg\" x=\"170\" y=\"100\" width=\"450\" height=\"270\" style=\"fill: rgb(229, 236, 246); fill-opacity: 1; stroke-width: 0;\"/></g><g class=\"layer-below\"><g class=\"imagelayer\"/><g class=\"shapelayer\"/></g><g class=\"cartesianlayer\"><g class=\"subplot xy\"><g class=\"layer-subplot\"><g class=\"shapelayer\"/><g class=\"imagelayer\"/></g><g class=\"gridlayer\"><g class=\"x\"/><g class=\"y\"/></g><g class=\"zerolinelayer\"/><path class=\"xlines-below\"/><path class=\"ylines-below\"/><g class=\"overlines-below\"/><g class=\"xaxislayer-below\"/><g class=\"yaxislayer-below\"/><g class=\"overaxes-below\"/><g class=\"plot\" transform=\"translate(170, 100)\" clip-path=\"url('#clipb9987exyplot')\"><g class=\"funnellayer mlayer\"><g class=\"trace bars\" style=\"opacity: 1;\"><g class=\"regions\"><g class=\"region\"><path d=\"M22.5,60.75L99.64,74.25H350.36L427.5,60.75Z\" style=\"stroke-width: 0; fill: rgb(99, 110, 250); fill-opacity: 0.5;\"/></g><g class=\"region\"><path d=\"M99.64,128.25L123.08,141.75H326.92L350.36,128.25Z\" style=\"stroke-width: 0; fill: rgb(99, 110, 250); fill-opacity: 0.5;\"/></g><g class=\"region\"><path d=\"M123.08,195.75L128.4,209.25H321.6L326.92,195.75Z\" style=\"stroke-width: 0; fill: rgb(99, 110, 250); fill-opacity: 0.5;\"/></g><g class=\"region\"><path d=\"M0,0Z\" style=\"stroke-width: 0; fill: rgb(99, 110, 250); fill-opacity: 0.5;\"/></g></g><g class=\"points\"><g class=\"point\"><path d=\"M22.5,6.75V60.75H427.5V6.75Z\" style=\"vector-effect: non-scaling-stroke; fill: rgb(99, 110, 250); fill-opacity: 1; stroke: rgb(68, 68, 68); stroke-opacity: 1; stroke-width: 0px; opacity: 1;\"/><text class=\"bartext bartext-inside\" text-anchor=\"middle\" data-notex=\"1\" x=\"0\" y=\"0\" style=\"font-family: 'Open Sans', verdana, arial, sans-serif; font-size: 12px; fill: rgb(255, 255, 255); fill-opacity: 1; white-space: pre;\" transform=\"translate(225,38.5)\">7419</text></g><g class=\"point\"><path d=\"M99.64,74.25V128.25H350.36V74.25Z\" style=\"vector-effect: non-scaling-stroke; fill: rgb(99, 110, 250); fill-opacity: 1; stroke: rgb(68, 68, 68); stroke-opacity: 1; stroke-width: 0px; opacity: 1;\"/><text class=\"bartext bartext-inside\" text-anchor=\"middle\" data-notex=\"1\" x=\"0\" y=\"0\" style=\"font-family: 'Open Sans', verdana, arial, sans-serif; font-size: 12px; fill: rgb(255, 255, 255); fill-opacity: 1; white-space: pre;\" transform=\"translate(225,106)\">4593</text></g><g class=\"point\"><path d=\"M123.08,141.75V195.75H326.92V141.75Z\" style=\"vector-effect: non-scaling-stroke; fill: rgb(99, 110, 250); fill-opacity: 1; stroke: rgb(68, 68, 68); stroke-opacity: 1; stroke-width: 0px; opacity: 1;\"/><text class=\"bartext bartext-inside\" text-anchor=\"middle\" data-notex=\"1\" x=\"0\" y=\"0\" style=\"font-family: 'Open Sans', verdana, arial, sans-serif; font-size: 12px; fill: rgb(255, 255, 255); fill-opacity: 1; white-space: pre;\" transform=\"translate(225,173.5)\">3734</text></g><g class=\"point\"><path d=\"M128.4,209.25V263.25H321.6V209.25Z\" style=\"vector-effect: non-scaling-stroke; fill: rgb(99, 110, 250); fill-opacity: 1; stroke: rgb(68, 68, 68); stroke-opacity: 1; stroke-width: 0px; opacity: 1;\"/><text class=\"bartext bartext-inside\" text-anchor=\"middle\" data-notex=\"1\" x=\"0\" y=\"0\" style=\"font-family: 'Open Sans', verdana, arial, sans-serif; font-size: 12px; fill: rgb(255, 255, 255); fill-opacity: 1; white-space: pre;\" transform=\"translate(225,241)\">3539</text></g></g></g></g></g><g class=\"overplot\"/><path class=\"xlines-above crisp\" d=\"M0,0\" style=\"fill: none;\"/><path class=\"ylines-above crisp\" d=\"M0,0\" style=\"fill: none;\"/><g class=\"overlines-above\"/><g class=\"xaxislayer-above\"/><g class=\"yaxislayer-above\"><g class=\"ytick\"><text text-anchor=\"end\" x=\"169\" y=\"4.199999999999999\" transform=\"translate(0,336.25)\" style=\"font-family: 'Open Sans', verdana, arial, sans-serif; font-size: 12px; fill: rgb(42, 63, 95); fill-opacity: 1; white-space: pre;\">PaymentScreenSuccessful</text></g><g class=\"ytick\"><text text-anchor=\"end\" x=\"169\" y=\"4.199999999999999\" transform=\"translate(0,268.75)\" style=\"font-family: 'Open Sans', verdana, arial, sans-serif; font-size: 12px; fill: rgb(42, 63, 95); fill-opacity: 1; white-space: pre;\">CartScreenAppear</text></g><g class=\"ytick\"><text text-anchor=\"end\" x=\"169\" y=\"4.199999999999999\" transform=\"translate(0,201.25)\" style=\"font-family: 'Open Sans', verdana, arial, sans-serif; font-size: 12px; fill: rgb(42, 63, 95); fill-opacity: 1; white-space: pre;\">OffersScreenAppear</text></g><g class=\"ytick\"><text text-anchor=\"end\" x=\"169\" y=\"4.199999999999999\" transform=\"translate(0,133.75)\" style=\"font-family: 'Open Sans', verdana, arial, sans-serif; font-size: 12px; fill: rgb(42, 63, 95); fill-opacity: 1; white-space: pre;\">MainScreenAppear</text></g></g><g class=\"overaxes-above\"/></g></g><g class=\"polarlayer\"/><g class=\"ternarylayer\"/><g class=\"geolayer\"/><g class=\"funnelarealayer\"/><g class=\"pielayer\"/><g class=\"treemaplayer\"/><g class=\"sunburstlayer\"/><g class=\"glimages\"/><defs id=\"topdefs-b9987e\"><g class=\"clips\"/></defs><g class=\"layer-above\"><g class=\"imagelayer\"/><g class=\"shapelayer\"/></g><g class=\"infolayer\"><g class=\"g-gtitle\"><text class=\"gtitle\" x=\"35\" y=\"50\" text-anchor=\"start\" dy=\"0em\" style=\"font-family: 'Open Sans', verdana, arial, sans-serif; font-size: 17px; fill: rgb(42, 63, 95); opacity: 1; font-weight: normal; white-space: pre;\">Воронка ключевых событий (уникальные пользователи)</text></g><g class=\"g-ytitle\"/></g></svg>"
      ]
     },
     "metadata": {},
     "output_type": "display_data"
    }
   ],
   "source": [
    "# визуализируем воронку событий\n",
    "event_for_funnel = ['MainScreenAppear', 'OffersScreenAppear', 'CartScreenAppear', 'PaymentScreenSuccessful']\n",
    "y_funnel = list(funnel.query('event_name in @event_for_funnel')['event_name'])\n",
    "x_funnel = list(funnel.query('event_name in @event_for_funnel')['user_cnt'])\n",
    "\n",
    "fig_funnel = go.Figure(go.Funnel(y=y_funnel, x=x_funnel,hoverinfo = \"y+percent initial+percent previous\"))\n",
    "fig_funnel.update_layout(title='Воронка ключевых событий (уникальные пользователи)')\n",
    "fig_funnel.show()"
   ]
  },
  {
   "cell_type": "markdown",
   "metadata": {},
   "source": [
    "Всего 1.13% уникальных пользователей не посещали главный экран в период с 1 по 7 августа, это могло произойти в случае, если пользователи ранее положили товары в корзину и вернулись к ней позже по прямой ссылке. Так как процент таких пользователей мало и их количество не может существенно повлиять на результаты исследования, мы не учитывали этот сценарий при построении воронки и взяли количество посетителей главной страницы за 100%. \n",
    "  \n",
    "**Основные наблюдения:**  \n",
    "* 61.9% всех пользователей, посетивших главный экран, перешли в каталог товаров,  \n",
    "* 50.3% от всех пользователей дошли до корзины — это 81% от тех, кто перешел в каталог товаров,  \n",
    "* 47.7% от всех пользователей успешно оплатили покупки — это 94.8% от тех, кто перешел в корзину,  \n",
    "* основные потери происходят на этапе перехода в каталог товаров,  \n",
    "* также заметные потери есть на этапе перехода из каталога в корзину.  "
   ]
  },
  {
   "cell_type": "markdown",
   "metadata": {},
   "source": [
    "### 3.4 Выводы <a name='3.4'></a>"
   ]
  },
  {
   "cell_type": "markdown",
   "metadata": {},
   "source": [
    "Наибольшее количество пользователей **мы теряем на этапе переход от главного экрана к каталогу — 38.1%**.  "
   ]
  },
  {
   "cell_type": "markdown",
   "metadata": {},
   "source": [
    "**Это может быть связано со следующими причинами:**  \n",
    "— *первое знакомство* с сервисом, пока нет потребности в заказе, скачал приложение и изучил возможности (новый пользователь, ничего не положил в корзину, короткая сессия): мягко напомнить о приложении, например, дать скидку на первый заказ  \n",
    "— *не разобрался и ушел*: обращать внимание на поведение пользователей, которые посетили главный экран, Tutorial и ушли из сервиса — если доля таких пользователей будет расти, то обратить внимание на удобство сервиса и какие изменения на главном экране произошли   "
   ]
  },
  {
   "cell_type": "markdown",
   "metadata": {},
   "source": [
    "**На этапе перехода из каталога в корзину мы теряем 19% пользователей** (49.7% пользователей, посетивших главный экран не дошли до корзины).  "
   ]
  },
  {
   "cell_type": "markdown",
   "metadata": {},
   "source": [
    "**Это может быть связано со следующими причинами:**  \n",
    "— *нет ключевых товаров на сайте*, ради которых пользователь пришел: рекомендуем изучить поведение пользователей с \"брошенными\" корзинами и обратную связь, сравнить запросы в поисковой строке приложения с ассортиментом  \n",
    "— *не устроили цены/условия доставки*: не можем напрямую влиять на цены, но можем оставаться конкурентноспособными, мониторя конкурентов и ценовую политику рынка продуктов питания  \n",
    "— *проблемы с интерфейсом*: были ли изменения в интерфейсе каталога, которые могли повлиять на экспириенс пользователя, были ли изменения в CJM, как долго пользователи остаются в каталоге (есть ли паттерны и изменения)?"
   ]
  },
  {
   "cell_type": "markdown",
   "metadata": {},
   "source": [
    "Так как у нас нет прототипа приложения и мы можем только предположить об опыте клиента по имеющимся логам, **мы можем предложить дополнительно несколько гипотез для дальнейшей работы:**  \n",
    "1) Какова цель \"главного экрана\" приложения? Возможно, если вести сразу на каталог товаров, конверсия пользователей в покупателей вырастет,  \n",
    "2) Как Tutorial влияет на поведение пользователей? Возможно, пользователи, которые столкнулись со сложностями и обратились к инструкциям, потом перешли к покупке в отличие от тех, кто этого не сделал.  \n",
    "3) Какие сценарии поведения свойственны пользователям, воспользовавшимся подсказками? Возможно, если для новых пользователей ввести интерактивный сценарий подсказок в каталоге, процент переходов в корзину вырастет."
   ]
  },
  {
   "cell_type": "markdown",
   "metadata": {},
   "source": [
    "# Часть 4. Анализ результатов А/А/В-теста <a name='4'></a>"
   ]
  },
  {
   "cell_type": "markdown",
   "metadata": {},
   "source": [
    "### 4.1 Проверка статистической значимости результатов теста <a name='4.1'></a>"
   ]
  },
  {
   "cell_type": "code",
   "execution_count": 20,
   "metadata": {},
   "outputs": [],
   "source": [
    "# подготовим данные\n",
    "# группы для сравнения\n",
    "group_a_one = correct_logs.query('group_id == 246')[['event_name', 'user_id']].reset_index(drop=True)\n",
    "group_a_two = correct_logs.query('group_id == 247')[['event_name', 'user_id']].reset_index(drop=True)\n",
    "group_a_all = correct_logs.query('group_id != 248')[['event_name', 'user_id']].reset_index(drop=True)\n",
    "group_b = correct_logs.query('group_id == 248')[['event_name', 'user_id']].reset_index(drop=True)"
   ]
  },
  {
   "cell_type": "markdown",
   "metadata": {},
   "source": [
    "При проверки результатов теста мы будем работать с долями, поэтому необходимо применить методику проверки гипотез о равенстве долей. У нас есть три ключевых события для которых мы будем проводить тесты между группами А1 и А2, А1 и В, А2 и В, А1+А2 и В — это означает, что **необходимо ввести поправку на множественное сравнение**. Мы возьмем стандартное значение `alpha = 0.05` и воспользуемся простой поправкой Бонферрони, где уровень значимости делится на количество сравнений — в нашем случае для 4 групп и 4 события уровень значимости разделим на 16."
   ]
  },
  {
   "cell_type": "markdown",
   "metadata": {},
   "source": [
    "*Нулевая гипотеза:* после замены шрифтов поведение пользователей не изменилось.  \n",
    "*Альтернативная гипотеза:* шрифты повлияли на поведение пользователей."
   ]
  },
  {
   "cell_type": "code",
   "execution_count": 21,
   "metadata": {},
   "outputs": [],
   "source": [
    "# критический уровень статистической значимости \n",
    "alpha = 0.05\n",
    "test_correction = 16\n",
    "\n",
    "# функция для статистической проверки гипотез\n",
    "def z_test(group_one, group_two, event, bonferroni_correction):\n",
    "    '''\n",
    "    На входе функция получает данные о двух сравниваемых группах, \n",
    "    наименование шага воронки и значение поправки Бонферрони \n",
    "    (если нет множественности проверки, установить значение 1).\n",
    "    На выходе — ответ о наличии или отсутствии статистической значимости\n",
    "    между сравниваемыми группами. Тест двусторонний.\n",
    "    '''\n",
    "    # кол-во пользователей, совершивших событие в сравниваемых группах 1 и 2\n",
    "    successes = np.array([group_one.query('event_name == @event')['user_id'].nunique(), \n",
    "                          group_two.query('event_name == @event')['user_id'].nunique()])\n",
    "    \n",
    "    # кол-во уникальных пользователей в сравниваемых группах 1 и 2\n",
    "    trials = np.array([group_one['user_id'].nunique(), \n",
    "                       group_two['user_id'].nunique()])\n",
    "    \n",
    "    # пропорция успехов в первой группе:\n",
    "    p1 = successes[0]/trials[0]\n",
    "\n",
    "    # пропорция успехов во второй группе:\n",
    "    p2 = successes[1]/trials[1]\n",
    "\n",
    "    # пропорция успехов в комбинированном датасете:\n",
    "    p_combined = (successes[0] + successes[1]) / (trials[0] + trials[1])\n",
    "\n",
    "    # разница пропорций в датасетах\n",
    "    difference = p1 - p2\n",
    "    \n",
    "    # статистика в ст.отклонениях стандартного нормального распределения\n",
    "    z_value = difference / mth.sqrt(p_combined * (1 - p_combined) * (1/trials[0] + 1/trials[1]))\n",
    "\n",
    "    # задаем стандартное нормальное распределение (среднее 0, ст.отклонение 1)\n",
    "    distr = st.norm(0, 1)\n",
    "    \n",
    "    # для двустороннего теста\n",
    "    p_value = (1 - distr.cdf(abs(z_value))) * 2\n",
    "    print('p-значение: ', p_value)\n",
    "    \n",
    "    # зададим поправку на множественный тест\n",
    "    bonferroni_alpha = alpha / test_correction\n",
    "\n",
    "    if (p_value < bonferroni_alpha):\n",
    "        print(\"Отвергаем нулевую гипотезу: между долями есть значимая разница\")\n",
    "    else:\n",
    "        print(\"Не получилось отвергнуть нулевую гипотезу, нет оснований считать доли разными\")"
   ]
  },
  {
   "cell_type": "code",
   "execution_count": 22,
   "metadata": {},
   "outputs": [
    {
     "name": "stdout",
     "output_type": "stream",
     "text": [
      "\u001b[1m\u001b[34mГруппы А1 и А2\u001b[0m\n",
      "Проверка для события \u001b[1mMainScreenAppear\u001b[0m\n",
      "p-значение:  0.7570597232046099\n",
      "Не получилось отвергнуть нулевую гипотезу, нет оснований считать доли разными\n",
      "\n",
      "Проверка для события \u001b[1mOffersScreenAppear\u001b[0m\n",
      "p-значение:  0.2480954578522181\n",
      "Не получилось отвергнуть нулевую гипотезу, нет оснований считать доли разными\n",
      "\n",
      "Проверка для события \u001b[1mCartScreenAppear\u001b[0m\n",
      "p-значение:  0.22883372237997213\n",
      "Не получилось отвергнуть нулевую гипотезу, нет оснований считать доли разными\n",
      "\n",
      "Проверка для события \u001b[1mPaymentScreenSuccessful\u001b[0m\n",
      "p-значение:  0.11456679313141849\n",
      "Не получилось отвергнуть нулевую гипотезу, нет оснований считать доли разными\n",
      "\n"
     ]
    }
   ],
   "source": [
    "# сравним группы А1 и А2\n",
    "print('\\033[1m\\033[34mГруппы А1 и А2\\033[0m')\n",
    "for event in event_for_funnel:\n",
    "    print('Проверка для события \\033[1m{}\\033[0m'.format(event))\n",
    "    z_test(group_a_one, group_a_two, event, test_correction)\n",
    "    print()"
   ]
  },
  {
   "cell_type": "markdown",
   "metadata": {},
   "source": [
    "Мы проверили две тестовые группы А1 и А2 и установили, что нет оснований считать доли разными, а значит — группы подходят для проведдения дальнейших сравнений с тестовой и мы можем считать, что на них не влияли сторонныие факторы, искажающие эксперимент."
   ]
  },
  {
   "cell_type": "code",
   "execution_count": 23,
   "metadata": {
    "scrolled": false
   },
   "outputs": [
    {
     "name": "stdout",
     "output_type": "stream",
     "text": [
      "\u001b[1m\u001b[34mГруппы А1 и В\u001b[0m\n",
      "Проверка для события \u001b[1mMainScreenAppear\u001b[0m\n",
      "p-значение:  0.2949721933554552\n",
      "Не получилось отвергнуть нулевую гипотезу, нет оснований считать доли разными\n",
      "\n",
      "Проверка для события \u001b[1mOffersScreenAppear\u001b[0m\n",
      "p-значение:  0.20836205402738917\n",
      "Не получилось отвергнуть нулевую гипотезу, нет оснований считать доли разными\n",
      "\n",
      "Проверка для события \u001b[1mCartScreenAppear\u001b[0m\n",
      "p-значение:  0.07842923237520116\n",
      "Не получилось отвергнуть нулевую гипотезу, нет оснований считать доли разными\n",
      "\n",
      "Проверка для события \u001b[1mPaymentScreenSuccessful\u001b[0m\n",
      "p-значение:  0.2122553275697796\n",
      "Не получилось отвергнуть нулевую гипотезу, нет оснований считать доли разными\n",
      "\n"
     ]
    }
   ],
   "source": [
    "# сравним группы А1 и В\n",
    "print('\\033[1m\\033[34mГруппы А1 и В\\033[0m')\n",
    "for event in event_for_funnel:\n",
    "    print('Проверка для события \\033[1m{}\\033[0m'.format(event))\n",
    "    z_test(group_a_one, group_b, event, test_correction)\n",
    "    print()"
   ]
  },
  {
   "cell_type": "code",
   "execution_count": 24,
   "metadata": {
    "scrolled": false
   },
   "outputs": [
    {
     "name": "stdout",
     "output_type": "stream",
     "text": [
      "\u001b[1m\u001b[34mГруппы А2 и В\u001b[0m\n",
      "Проверка для события \u001b[1mMainScreenAppear\u001b[0m\n",
      "p-значение:  0.4587053616621515\n",
      "Не получилось отвергнуть нулевую гипотезу, нет оснований считать доли разными\n",
      "\n",
      "Проверка для события \u001b[1mOffersScreenAppear\u001b[0m\n",
      "p-значение:  0.9197817830592261\n",
      "Не получилось отвергнуть нулевую гипотезу, нет оснований считать доли разными\n",
      "\n",
      "Проверка для события \u001b[1mCartScreenAppear\u001b[0m\n",
      "p-значение:  0.5786197879539783\n",
      "Не получилось отвергнуть нулевую гипотезу, нет оснований считать доли разными\n",
      "\n",
      "Проверка для события \u001b[1mPaymentScreenSuccessful\u001b[0m\n",
      "p-значение:  0.7373415053803964\n",
      "Не получилось отвергнуть нулевую гипотезу, нет оснований считать доли разными\n",
      "\n"
     ]
    }
   ],
   "source": [
    "# сравним группы А2 и В\n",
    "print('\\033[1m\\033[34mГруппы А2 и В\\033[0m')\n",
    "for event in event_for_funnel:\n",
    "    print('Проверка для события \\033[1m{}\\033[0m'.format(event))\n",
    "    z_test(group_a_two, group_b, event, test_correction)\n",
    "    print()"
   ]
  },
  {
   "cell_type": "code",
   "execution_count": 25,
   "metadata": {},
   "outputs": [
    {
     "name": "stdout",
     "output_type": "stream",
     "text": [
      "\u001b[1m\u001b[34mГруппы A1+А2 и В\u001b[0m\n",
      "Проверка для события \u001b[1mMainScreenAppear\u001b[0m\n",
      "p-значение:  0.29424526837179577\n",
      "Не получилось отвергнуть нулевую гипотезу, нет оснований считать доли разными\n",
      "\n",
      "Проверка для события \u001b[1mOffersScreenAppear\u001b[0m\n",
      "p-значение:  0.43425549655188256\n",
      "Не получилось отвергнуть нулевую гипотезу, нет оснований считать доли разными\n",
      "\n",
      "Проверка для события \u001b[1mCartScreenAppear\u001b[0m\n",
      "p-значение:  0.18175875284404386\n",
      "Не получилось отвергнуть нулевую гипотезу, нет оснований считать доли разными\n",
      "\n",
      "Проверка для события \u001b[1mPaymentScreenSuccessful\u001b[0m\n",
      "p-значение:  0.6004294282308704\n",
      "Не получилось отвергнуть нулевую гипотезу, нет оснований считать доли разными\n",
      "\n"
     ]
    }
   ],
   "source": [
    "# сравним группы A1+А2 и В\n",
    "print('\\033[1m\\033[34mГруппы A1+А2 и В\\033[0m')\n",
    "for event in event_for_funnel:\n",
    "    print('Проверка для события \\033[1m{}\\033[0m'.format(event))\n",
    "    z_test(group_a_all, group_b, event, test_correction)\n",
    "    print()"
   ]
  },
  {
   "cell_type": "markdown",
   "metadata": {},
   "source": [
    "Во всех случаях мы не можем отвергнуть нулевую гипотезу и считать изменения статистически значимыми. Судя по результатам эксперимента мы не можем утверждать, что изменение шрифта в приложении влияет на конверсии в ключевые события."
   ]
  },
  {
   "cell_type": "markdown",
   "metadata": {},
   "source": [
    "### 4.2 Выводы <a name='4.2'></a>"
   ]
  },
  {
   "cell_type": "markdown",
   "metadata": {},
   "source": [
    "Для проведения анализа результатов А/А/В-теста мы применили метод проверки гипотез о разнице долей с учетом множественности эксперимента (применили критерий Бонферрони). Мы провели сравнение тестовых групп, чтобы убедиться, что на ход эксперимента не влияли сторонние факторы, далее провели сравнения для тестовой группы.  \n",
    "  \n",
    "В результате А/А/В-теста мы не смогли отвергнуть нулевую гипотезу о равенстве долей, это означает, что мы не можем считать изменения статистически значимыми. **Мы не можем утверждать, что изменение шрифта повлияет на поведения пользователей в рамках отслеживаемой воронки событий.**"
   ]
  },
  {
   "cell_type": "markdown",
   "metadata": {},
   "source": [
    "# Часть 5. Общие выводы и рекомендации <a name='5'></a>"
   ]
  },
  {
   "cell_type": "markdown",
   "metadata": {},
   "source": [
    "**Для оценки поведения пользователей в приложении мы выделили в воронке событий ключевые:**  \n",
    "— главный экран (MainScreenAppear)  \n",
    "— переход в каталог товаров (OffersScreenAppear)  \n",
    "— переход в корзину (CartScreenAppear)  \n",
    "— экран успешной покупки (PaymentScreenSuccessful)  "
   ]
  },
  {
   "cell_type": "markdown",
   "metadata": {},
   "source": [
    "**Основные потери пользователей** происходят на этапе перехода в каталог товаров (уходят до 38.1% пользователей, увидивших главный экран), а также заметные потери есть на этапе перехода из каталога в корзину (уходят до 19% пользователей, перешедших в каталог). "
   ]
  },
  {
   "cell_type": "markdown",
   "metadata": {},
   "source": [
    "Мы предложили несколько причин, по котором может снижаться конверсия на этих этапах, **рекомендуем первостепенно обратить внимание на следующие моменты:**\n",
    "* были ли изменения на главном экране в последнее время, как они сказались на конверсии в сравнении за более ранние периоды (если были),  \n",
    "* были ли изменения в приложении, которые могли повлиять на экспириенс пользователя, связанные с CJM,  \n",
    "* понаблюдать за поведением новых пользователей в приложении (когда наступает wow-эффект) – понять причины ухода без посещения каталога (не разобрался с интерфейсом, приложение запрашивает регистрацию на главном экране, не ставил цели заказа - хотел посмотреть...): в зависимости от \"находок\" предложить новым пользователям бонус на первую покупки или другую стимулирующую акцию,  \n",
    "* понаблюдать за поведением лояльных клиентов: что ищут в каталоге, как часто уходят, если не нашли нужного товара, как работает поиск по товарам в приложении.  "
   ]
  },
  {
   "cell_type": "markdown",
   "metadata": {},
   "source": [
    "Конверсия в покупку для пользователей, перешедших из каталога в корзину высокая 94.8% — есть ли механики в приложении, которые предлагают пользователям, которые что-то не обнаружили в каталоге, перейти в корзину и приобрести оставшиеся товары? Есть ли система рекомендаций похожих товаров или возможность установить напоминание, когда товар появится, чтобы вернуть клиента к брошенной корзине?  "
   ]
  },
  {
   "cell_type": "markdown",
   "metadata": {},
   "source": [
    "**Также предложена гипотеза для будущих исследований:**   \n",
    "Какова цель \"главного экрана\" приложения? Возможно, если вести сразу на каталог товаров, конверсия пользователей в покупателей вырастет.  \n",
    "  \n",
    "___\n",
    "Также мы провели анализ А/А/В-теста, в котором тестовая группа видела новые шрифты в приложении.  \n",
    "**Результат:** мы не смогли отвергнуть нулевую гипотезу о равенстве долей, это означает, что мы не можем считать изменения статистически значимыми. Мы не можем утверждать, что изменение шрифта повлияет на поведения пользователей в рамках отслеживаемой воронки событий."
   ]
  }
 ],
 "metadata": {
  "kernelspec": {
   "display_name": "Python 3",
   "language": "python",
   "name": "python3"
  },
  "language_info": {
   "codemirror_mode": {
    "name": "ipython",
    "version": 3
   },
   "file_extension": ".py",
   "mimetype": "text/x-python",
   "name": "python",
   "nbconvert_exporter": "python",
   "pygments_lexer": "ipython3",
   "version": "3.8.3"
  }
 },
 "nbformat": 4,
 "nbformat_minor": 2
}
