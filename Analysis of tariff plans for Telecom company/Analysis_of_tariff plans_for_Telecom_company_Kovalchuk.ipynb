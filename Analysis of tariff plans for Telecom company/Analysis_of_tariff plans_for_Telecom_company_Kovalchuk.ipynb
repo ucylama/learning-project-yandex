{
 "cells": [
  {
   "cell_type": "markdown",
   "metadata": {},
   "source": [
    "# Аналих тарифных планов для телеком компании <a name='0'></a>\n",
    "\n",
    "Клиентам федерального оператора сотовой связи предлагают два ключевых тарифных плана: «Смарт» и «Ультра». Для анализа тарифов предоставленны данные о 500 пользователях за 2018 год: город, каким тарифом пользуются, сколько звонков и сообщений каждый отправил, как расходовался интернет-трафик.  \n",
    "  \n",
    "Задача: проанализировать поведение клиентов, выявить эффективный тариф и дать рекомендации для коммерческого отдела по корректировкам рекламного бюджета.  "
   ]
  },
  {
   "cell_type": "markdown",
   "metadata": {},
   "source": [
    "____\n",
    "### Оглавление"
   ]
  },
  {
   "cell_type": "markdown",
   "metadata": {},
   "source": [
    "#### [Часть 1. Первичное изучение полученных данных](#1)\n",
    "\n",
    "   [1.1 Загрузка библиотек и файлов с данными](#1.1)  \n",
    "   [1.2 Изучение основных параметров датафрейма](#1.2)  \n",
    "   [1.3 Общее описание полученных данных](#1.3)  \n",
    "   [1.4 Выводы](#1.4)  \n",
    "\n",
    "#### [Часть 2. Подготовка данных к анализу](#2)\n",
    "\n",
    "   [2.1 Замена типов данных](#2.1)  \n",
    "   [2.2 Дополнительные расчеты:](#2.2)  \n",
    "       [— подсчет расходов клиентов разных тарифов](#2.2.1)  \n",
    "       [— промежуточные выводы](#2.2.2)  \n",
    "       [— подсчет совокупной выручки с пользователя](#2.2.3)  \n",
    "   [2.3 Выводы](#2.3)\n",
    "\n",
    "#### [Часть 3. Анализ ключевых тарифных планов компании](#3)\n",
    "\n",
    "   [3.1 Подготовка данных и анализ основных статистических показателей](#3.1)  \n",
    "   [3.2 Выводы](#3.2)    \n",
    "\n",
    "#### [Часть 4. Статистическая проверка рабочих гипотез](#4)\n",
    "\n",
    "   [4.1 Проверка гипотез о средней выручке от разных тарифных планов](#4.1)  \n",
    "   [4.2 Проверка гипотез о средней выручке по клиентам Москвы и других регионов](#4.2)    \n",
    "   [4.3 Выводы](#4.3)  \n",
    "\n",
    "#### [Часть 5. Итоговые выводы исследования](#5)\n",
    "____"
   ]
  },
  {
   "cell_type": "markdown",
   "metadata": {},
   "source": [
    "# Часть 1. Первичное изучение полученных данных <a name='1'></a>"
   ]
  },
  {
   "cell_type": "markdown",
   "metadata": {},
   "source": [
    "### 1.1 Загрузка библиотек и файлов с данными <a name='1.1'></a>"
   ]
  },
  {
   "cell_type": "code",
   "execution_count": 1,
   "metadata": {},
   "outputs": [],
   "source": [
    "import pandas as pd\n",
    "import matplotlib.pyplot as plt\n",
    "import math\n",
    "import numpy as np\n",
    "import seaborn as sns\n",
    "from scipy import stats as st"
   ]
  },
  {
   "cell_type": "code",
   "execution_count": 2,
   "metadata": {},
   "outputs": [],
   "source": [
    "calls = \"../datasets/Telecom_ company_calls.csv\"\n",
    "internet = \"../datasets/Telecom_ company_internet.csv\"\n",
    "messages = \"../datasets/Telecom_ company_messages.csv\"\n",
    "tariffs = \"../datasets/Telecom_ company_tariffs.csv\"\n",
    "users = \"../datasets/Telecom_ company_users.csv\""
   ]
  },
  {
   "cell_type": "code",
   "execution_count": 3,
   "metadata": {},
   "outputs": [],
   "source": [
    "data_calls = pd.read_csv(calls)\n",
    "data_internet = pd.read_csv(internet)\n",
    "data_messages = pd.read_csv(messages)\n",
    "data_tariffs = pd.read_csv(tariffs)\n",
    "data_users = pd.read_csv(users)"
   ]
  },
  {
   "cell_type": "markdown",
   "metadata": {},
   "source": [
    "### 1.2 Изучение основных параметров датафрейма <a name='1.2'></a>"
   ]
  },
  {
   "cell_type": "code",
   "execution_count": 4,
   "metadata": {
    "scrolled": false
   },
   "outputs": [
    {
     "name": "stdout",
     "output_type": "stream",
     "text": [
      "\u001b[1m\u001b[34m~~~~~~~~~~~~~~~~~~~~~~~~~~~~~~~~~~~~~~~~~~~~\n",
      "Общая информация: 'calls'\n"
     ]
    },
    {
     "data": {
      "text/html": [
       "<div>\n",
       "<style scoped>\n",
       "    .dataframe tbody tr th:only-of-type {\n",
       "        vertical-align: middle;\n",
       "    }\n",
       "\n",
       "    .dataframe tbody tr th {\n",
       "        vertical-align: top;\n",
       "    }\n",
       "\n",
       "    .dataframe thead th {\n",
       "        text-align: right;\n",
       "    }\n",
       "</style>\n",
       "<table border=\"1\" class=\"dataframe\">\n",
       "  <thead>\n",
       "    <tr style=\"text-align: right;\">\n",
       "      <th></th>\n",
       "      <th>id</th>\n",
       "      <th>call_date</th>\n",
       "      <th>duration</th>\n",
       "      <th>user_id</th>\n",
       "    </tr>\n",
       "  </thead>\n",
       "  <tbody>\n",
       "    <tr>\n",
       "      <th>0</th>\n",
       "      <td>1000_0</td>\n",
       "      <td>2018-07-25</td>\n",
       "      <td>0.00</td>\n",
       "      <td>1000</td>\n",
       "    </tr>\n",
       "    <tr>\n",
       "      <th>1</th>\n",
       "      <td>1000_1</td>\n",
       "      <td>2018-08-17</td>\n",
       "      <td>0.00</td>\n",
       "      <td>1000</td>\n",
       "    </tr>\n",
       "    <tr>\n",
       "      <th>2</th>\n",
       "      <td>1000_2</td>\n",
       "      <td>2018-06-11</td>\n",
       "      <td>2.85</td>\n",
       "      <td>1000</td>\n",
       "    </tr>\n",
       "  </tbody>\n",
       "</table>\n",
       "</div>"
      ],
      "text/plain": [
       "       id   call_date  duration  user_id\n",
       "0  1000_0  2018-07-25      0.00     1000\n",
       "1  1000_1  2018-08-17      0.00     1000\n",
       "2  1000_2  2018-06-11      2.85     1000"
      ]
     },
     "metadata": {},
     "output_type": "display_data"
    },
    {
     "name": "stdout",
     "output_type": "stream",
     "text": [
      "\n",
      "<class 'pandas.core.frame.DataFrame'>\n",
      "RangeIndex: 202607 entries, 0 to 202606\n",
      "Data columns (total 4 columns):\n",
      " #   Column     Non-Null Count   Dtype  \n",
      "---  ------     --------------   -----  \n",
      " 0   id         202607 non-null  object \n",
      " 1   call_date  202607 non-null  object \n",
      " 2   duration   202607 non-null  float64\n",
      " 3   user_id    202607 non-null  int64  \n",
      "dtypes: float64(1), int64(1), object(2)\n",
      "memory usage: 6.2+ MB\n"
     ]
    },
    {
     "data": {
      "text/plain": [
       "None"
      ]
     },
     "metadata": {},
     "output_type": "display_data"
    },
    {
     "name": "stdout",
     "output_type": "stream",
     "text": [
      "\u001b[34mКоличество дубликатов: \u001b[0m0\n",
      "\u001b[1m\u001b[34m~~~~~~~~~~~~~~~~~~~~~~~~~~~~~~~~~~~~~~~~~~~~\n",
      "Общая информация: 'internet'\n"
     ]
    },
    {
     "data": {
      "text/html": [
       "<div>\n",
       "<style scoped>\n",
       "    .dataframe tbody tr th:only-of-type {\n",
       "        vertical-align: middle;\n",
       "    }\n",
       "\n",
       "    .dataframe tbody tr th {\n",
       "        vertical-align: top;\n",
       "    }\n",
       "\n",
       "    .dataframe thead th {\n",
       "        text-align: right;\n",
       "    }\n",
       "</style>\n",
       "<table border=\"1\" class=\"dataframe\">\n",
       "  <thead>\n",
       "    <tr style=\"text-align: right;\">\n",
       "      <th></th>\n",
       "      <th>Unnamed: 0</th>\n",
       "      <th>id</th>\n",
       "      <th>mb_used</th>\n",
       "      <th>session_date</th>\n",
       "      <th>user_id</th>\n",
       "    </tr>\n",
       "  </thead>\n",
       "  <tbody>\n",
       "    <tr>\n",
       "      <th>0</th>\n",
       "      <td>0</td>\n",
       "      <td>1000_0</td>\n",
       "      <td>112.95</td>\n",
       "      <td>2018-11-25</td>\n",
       "      <td>1000</td>\n",
       "    </tr>\n",
       "    <tr>\n",
       "      <th>1</th>\n",
       "      <td>1</td>\n",
       "      <td>1000_1</td>\n",
       "      <td>1052.81</td>\n",
       "      <td>2018-09-07</td>\n",
       "      <td>1000</td>\n",
       "    </tr>\n",
       "    <tr>\n",
       "      <th>2</th>\n",
       "      <td>2</td>\n",
       "      <td>1000_2</td>\n",
       "      <td>1197.26</td>\n",
       "      <td>2018-06-25</td>\n",
       "      <td>1000</td>\n",
       "    </tr>\n",
       "  </tbody>\n",
       "</table>\n",
       "</div>"
      ],
      "text/plain": [
       "   Unnamed: 0      id  mb_used session_date  user_id\n",
       "0           0  1000_0   112.95   2018-11-25     1000\n",
       "1           1  1000_1  1052.81   2018-09-07     1000\n",
       "2           2  1000_2  1197.26   2018-06-25     1000"
      ]
     },
     "metadata": {},
     "output_type": "display_data"
    },
    {
     "name": "stdout",
     "output_type": "stream",
     "text": [
      "\n",
      "<class 'pandas.core.frame.DataFrame'>\n",
      "RangeIndex: 149396 entries, 0 to 149395\n",
      "Data columns (total 5 columns):\n",
      " #   Column        Non-Null Count   Dtype  \n",
      "---  ------        --------------   -----  \n",
      " 0   Unnamed: 0    149396 non-null  int64  \n",
      " 1   id            149396 non-null  object \n",
      " 2   mb_used       149396 non-null  float64\n",
      " 3   session_date  149396 non-null  object \n",
      " 4   user_id       149396 non-null  int64  \n",
      "dtypes: float64(1), int64(2), object(2)\n",
      "memory usage: 5.7+ MB\n"
     ]
    },
    {
     "data": {
      "text/plain": [
       "None"
      ]
     },
     "metadata": {},
     "output_type": "display_data"
    },
    {
     "name": "stdout",
     "output_type": "stream",
     "text": [
      "\u001b[34mКоличество дубликатов: \u001b[0m0\n",
      "\u001b[1m\u001b[34m~~~~~~~~~~~~~~~~~~~~~~~~~~~~~~~~~~~~~~~~~~~~\n",
      "Общая информация: 'messages'\n"
     ]
    },
    {
     "data": {
      "text/html": [
       "<div>\n",
       "<style scoped>\n",
       "    .dataframe tbody tr th:only-of-type {\n",
       "        vertical-align: middle;\n",
       "    }\n",
       "\n",
       "    .dataframe tbody tr th {\n",
       "        vertical-align: top;\n",
       "    }\n",
       "\n",
       "    .dataframe thead th {\n",
       "        text-align: right;\n",
       "    }\n",
       "</style>\n",
       "<table border=\"1\" class=\"dataframe\">\n",
       "  <thead>\n",
       "    <tr style=\"text-align: right;\">\n",
       "      <th></th>\n",
       "      <th>id</th>\n",
       "      <th>message_date</th>\n",
       "      <th>user_id</th>\n",
       "    </tr>\n",
       "  </thead>\n",
       "  <tbody>\n",
       "    <tr>\n",
       "      <th>0</th>\n",
       "      <td>1000_0</td>\n",
       "      <td>2018-06-27</td>\n",
       "      <td>1000</td>\n",
       "    </tr>\n",
       "    <tr>\n",
       "      <th>1</th>\n",
       "      <td>1000_1</td>\n",
       "      <td>2018-10-08</td>\n",
       "      <td>1000</td>\n",
       "    </tr>\n",
       "    <tr>\n",
       "      <th>2</th>\n",
       "      <td>1000_2</td>\n",
       "      <td>2018-08-04</td>\n",
       "      <td>1000</td>\n",
       "    </tr>\n",
       "  </tbody>\n",
       "</table>\n",
       "</div>"
      ],
      "text/plain": [
       "       id message_date  user_id\n",
       "0  1000_0   2018-06-27     1000\n",
       "1  1000_1   2018-10-08     1000\n",
       "2  1000_2   2018-08-04     1000"
      ]
     },
     "metadata": {},
     "output_type": "display_data"
    },
    {
     "name": "stdout",
     "output_type": "stream",
     "text": [
      "\n",
      "<class 'pandas.core.frame.DataFrame'>\n",
      "RangeIndex: 123036 entries, 0 to 123035\n",
      "Data columns (total 3 columns):\n",
      " #   Column        Non-Null Count   Dtype \n",
      "---  ------        --------------   ----- \n",
      " 0   id            123036 non-null  object\n",
      " 1   message_date  123036 non-null  object\n",
      " 2   user_id       123036 non-null  int64 \n",
      "dtypes: int64(1), object(2)\n",
      "memory usage: 2.8+ MB\n"
     ]
    },
    {
     "data": {
      "text/plain": [
       "None"
      ]
     },
     "metadata": {},
     "output_type": "display_data"
    },
    {
     "name": "stdout",
     "output_type": "stream",
     "text": [
      "\u001b[34mКоличество дубликатов: \u001b[0m0\n",
      "\u001b[1m\u001b[34m~~~~~~~~~~~~~~~~~~~~~~~~~~~~~~~~~~~~~~~~~~~~\n",
      "Общая информация: 'tariffs info'\n"
     ]
    },
    {
     "data": {
      "text/html": [
       "<div>\n",
       "<style scoped>\n",
       "    .dataframe tbody tr th:only-of-type {\n",
       "        vertical-align: middle;\n",
       "    }\n",
       "\n",
       "    .dataframe tbody tr th {\n",
       "        vertical-align: top;\n",
       "    }\n",
       "\n",
       "    .dataframe thead th {\n",
       "        text-align: right;\n",
       "    }\n",
       "</style>\n",
       "<table border=\"1\" class=\"dataframe\">\n",
       "  <thead>\n",
       "    <tr style=\"text-align: right;\">\n",
       "      <th></th>\n",
       "      <th>messages_included</th>\n",
       "      <th>mb_per_month_included</th>\n",
       "      <th>minutes_included</th>\n",
       "      <th>rub_monthly_fee</th>\n",
       "      <th>rub_per_gb</th>\n",
       "      <th>rub_per_message</th>\n",
       "      <th>rub_per_minute</th>\n",
       "      <th>tariff_name</th>\n",
       "    </tr>\n",
       "  </thead>\n",
       "  <tbody>\n",
       "    <tr>\n",
       "      <th>0</th>\n",
       "      <td>50</td>\n",
       "      <td>15360</td>\n",
       "      <td>500</td>\n",
       "      <td>550</td>\n",
       "      <td>200</td>\n",
       "      <td>3</td>\n",
       "      <td>3</td>\n",
       "      <td>smart</td>\n",
       "    </tr>\n",
       "    <tr>\n",
       "      <th>1</th>\n",
       "      <td>1000</td>\n",
       "      <td>30720</td>\n",
       "      <td>3000</td>\n",
       "      <td>1950</td>\n",
       "      <td>150</td>\n",
       "      <td>1</td>\n",
       "      <td>1</td>\n",
       "      <td>ultra</td>\n",
       "    </tr>\n",
       "  </tbody>\n",
       "</table>\n",
       "</div>"
      ],
      "text/plain": [
       "   messages_included  mb_per_month_included  minutes_included  \\\n",
       "0                 50                  15360               500   \n",
       "1               1000                  30720              3000   \n",
       "\n",
       "   rub_monthly_fee  rub_per_gb  rub_per_message  rub_per_minute tariff_name  \n",
       "0              550         200                3               3       smart  \n",
       "1             1950         150                1               1       ultra  "
      ]
     },
     "metadata": {},
     "output_type": "display_data"
    },
    {
     "name": "stdout",
     "output_type": "stream",
     "text": [
      "\n",
      "<class 'pandas.core.frame.DataFrame'>\n",
      "RangeIndex: 2 entries, 0 to 1\n",
      "Data columns (total 8 columns):\n",
      " #   Column                 Non-Null Count  Dtype \n",
      "---  ------                 --------------  ----- \n",
      " 0   messages_included      2 non-null      int64 \n",
      " 1   mb_per_month_included  2 non-null      int64 \n",
      " 2   minutes_included       2 non-null      int64 \n",
      " 3   rub_monthly_fee        2 non-null      int64 \n",
      " 4   rub_per_gb             2 non-null      int64 \n",
      " 5   rub_per_message        2 non-null      int64 \n",
      " 6   rub_per_minute         2 non-null      int64 \n",
      " 7   tariff_name            2 non-null      object\n",
      "dtypes: int64(7), object(1)\n",
      "memory usage: 256.0+ bytes\n"
     ]
    },
    {
     "data": {
      "text/plain": [
       "None"
      ]
     },
     "metadata": {},
     "output_type": "display_data"
    },
    {
     "name": "stdout",
     "output_type": "stream",
     "text": [
      "\u001b[34mКоличество дубликатов: \u001b[0m0\n",
      "\u001b[1m\u001b[34m~~~~~~~~~~~~~~~~~~~~~~~~~~~~~~~~~~~~~~~~~~~~\n",
      "Общая информация: 'users info'\n"
     ]
    },
    {
     "data": {
      "text/html": [
       "<div>\n",
       "<style scoped>\n",
       "    .dataframe tbody tr th:only-of-type {\n",
       "        vertical-align: middle;\n",
       "    }\n",
       "\n",
       "    .dataframe tbody tr th {\n",
       "        vertical-align: top;\n",
       "    }\n",
       "\n",
       "    .dataframe thead th {\n",
       "        text-align: right;\n",
       "    }\n",
       "</style>\n",
       "<table border=\"1\" class=\"dataframe\">\n",
       "  <thead>\n",
       "    <tr style=\"text-align: right;\">\n",
       "      <th></th>\n",
       "      <th>user_id</th>\n",
       "      <th>age</th>\n",
       "      <th>churn_date</th>\n",
       "      <th>city</th>\n",
       "      <th>first_name</th>\n",
       "      <th>last_name</th>\n",
       "      <th>reg_date</th>\n",
       "      <th>tariff</th>\n",
       "    </tr>\n",
       "  </thead>\n",
       "  <tbody>\n",
       "    <tr>\n",
       "      <th>0</th>\n",
       "      <td>1000</td>\n",
       "      <td>52</td>\n",
       "      <td>NaN</td>\n",
       "      <td>Краснодар</td>\n",
       "      <td>Рафаил</td>\n",
       "      <td>Верещагин</td>\n",
       "      <td>2018-05-25</td>\n",
       "      <td>ultra</td>\n",
       "    </tr>\n",
       "    <tr>\n",
       "      <th>1</th>\n",
       "      <td>1001</td>\n",
       "      <td>41</td>\n",
       "      <td>NaN</td>\n",
       "      <td>Москва</td>\n",
       "      <td>Иван</td>\n",
       "      <td>Ежов</td>\n",
       "      <td>2018-11-01</td>\n",
       "      <td>smart</td>\n",
       "    </tr>\n",
       "    <tr>\n",
       "      <th>2</th>\n",
       "      <td>1002</td>\n",
       "      <td>59</td>\n",
       "      <td>NaN</td>\n",
       "      <td>Стерлитамак</td>\n",
       "      <td>Евгений</td>\n",
       "      <td>Абрамович</td>\n",
       "      <td>2018-06-17</td>\n",
       "      <td>smart</td>\n",
       "    </tr>\n",
       "  </tbody>\n",
       "</table>\n",
       "</div>"
      ],
      "text/plain": [
       "   user_id  age churn_date         city first_name  last_name    reg_date  \\\n",
       "0     1000   52        NaN    Краснодар     Рафаил  Верещагин  2018-05-25   \n",
       "1     1001   41        NaN       Москва       Иван       Ежов  2018-11-01   \n",
       "2     1002   59        NaN  Стерлитамак    Евгений  Абрамович  2018-06-17   \n",
       "\n",
       "  tariff  \n",
       "0  ultra  \n",
       "1  smart  \n",
       "2  smart  "
      ]
     },
     "metadata": {},
     "output_type": "display_data"
    },
    {
     "name": "stdout",
     "output_type": "stream",
     "text": [
      "\n",
      "<class 'pandas.core.frame.DataFrame'>\n",
      "RangeIndex: 500 entries, 0 to 499\n",
      "Data columns (total 8 columns):\n",
      " #   Column      Non-Null Count  Dtype \n",
      "---  ------      --------------  ----- \n",
      " 0   user_id     500 non-null    int64 \n",
      " 1   age         500 non-null    int64 \n",
      " 2   churn_date  38 non-null     object\n",
      " 3   city        500 non-null    object\n",
      " 4   first_name  500 non-null    object\n",
      " 5   last_name   500 non-null    object\n",
      " 6   reg_date    500 non-null    object\n",
      " 7   tariff      500 non-null    object\n",
      "dtypes: int64(2), object(6)\n",
      "memory usage: 31.4+ KB\n"
     ]
    },
    {
     "data": {
      "text/plain": [
       "None"
      ]
     },
     "metadata": {},
     "output_type": "display_data"
    },
    {
     "name": "stdout",
     "output_type": "stream",
     "text": [
      "\u001b[34mКоличество дубликатов: \u001b[0m0\n"
     ]
    }
   ],
   "source": [
    "# автоматизируем процесс с помощью функции\n",
    "def df_info(data):\n",
    "    display(data.head(3))\n",
    "    print()\n",
    "    display(data.info())\n",
    "    print(\"\\033[34m{} \\033[0m{}\".format(\"Количество дубликатов:\", data.duplicated().sum()))\n",
    "\n",
    "# подготовим словарь\n",
    "data_name = {\n",
    "    \"calls\" : data_calls , \n",
    "    \"internet\" : data_internet, \n",
    "    \"messages\" : data_messages, \n",
    "    \"tariffs info\" : data_tariffs, \n",
    "    \"users info\" : data_users\n",
    "}\n",
    "\n",
    "# проведем первичное исследование данных\n",
    "for key in data_name:\n",
    "    print(\"\\033[1m\\033[34m~~~~~~~~~~~~~~~~~~~~~~~~~~~~~~~~~~~~~~~~~~~~\")\n",
    "    print(\"Общая информация: '{}'\".format(key))\n",
    "    df_info(data_name[key])"
   ]
  },
  {
   "cell_type": "markdown",
   "metadata": {},
   "source": [
    "### 1.3 Общее описание полученных данных <a name='1.3'></a>  \n",
    "  \n",
    "У нас есть данные по 500 клиентам федерального сотового оператора, которые хранятся в пяти таблицах.    \n",
    "\n",
    "Таблицу `data_users` можно считать словарем по нашим клиентам, в ней 8 колонок:  \n",
    "\n",
    "* *user_id* — уникальный ID клиента (тип данных `int64`)  \n",
    "* *age* — возраст в годах (`int64`)  \n",
    "* *churn_date* — дата прекращения пользования тарифом (`object`)  \n",
    "* *city* — город (`object`)  \n",
    "* *first_name* — имя (`object`)  \n",
    "* *last_name* — фамилия  (`object`)  \n",
    "* *reg_date* —  дата подключения тарифа  (`object`)  \n",
    "* *tariff* — тарифный план  (`object`)  \n",
    "\n",
    "Таблицу `data_tariffs` также можно считать словарем, она содержить информацию по тарифам `\"smart\"` и `\"ultra\"`.  \n",
    "— включено в абонентскую плату за месяц:  \n",
    "* *messages_included* — кол-во сообщений (`int64`)  \n",
    "* *mb_per_month_included* — объём интернет-трафика (в мегабайтах) (`int64`)  \n",
    "* *minutes_included* — кол-во минут разговора (`int64`)   \n",
    "* *rub_monthly_fee* — абонентская плата в рублях (`int64`)   \n",
    "\n",
    "— стоимость услуг сверх тарихного плана:  \n",
    "* *rub_per_gb* — дополнительный гигабайт интернет-трафика (`int64`)  \n",
    "* *rub_per_message* — сообщение (`int64`)  \n",
    "* *rub_per_minute* — минута разговора (`int64`) \n",
    "\n",
    "— общее:  \n",
    "* *tariff_name* — название тарифа (`object`)  \n",
    "\n",
    "****\n",
    "\n",
    "В таблице `data_calls` хранится информация о звонках пользователей, 4 колонки:  \n",
    "\n",
    "- *id* — уникальный номер звонка (`object`)  \n",
    "- *call_date* — дата звонка (`object`)  \n",
    "- *duration* — длительность в минутах (`float64`)  \n",
    "- *user_id* — ID клиента (`int64`)  \n",
    "\n",
    "В таблице `data_internet` хранится информация об интернет-сессиях), 4+1 колонки:  \n",
    "\n",
    "- *id* — уникальный номер сессии (`object`)  \n",
    "- *mb_used* — объём потраченного за сессию интернет-трафика в мегабайтах (`float64`)  \n",
    "- *session_date* — дата интернет-сессии (`object`)  \n",
    "- *user_id* — ID клиента (`int64`)  \n",
    "- пятый столбец *Unnamed: 0* содержит порядковый номер строки — индекс, его можно не учитывать в работе  \n",
    "\n",
    "В таблице `data_messages` хранится информация об отправленных сообщениях), 3 колонки:  \n",
    "\n",
    "- *id* — уникальный номер сообщения (`object`)  \n",
    "- *message_date* — дата сообщения (`object`)  \n",
    "- *user_id* — ID клиента (`int64`)  \n",
    "  \n",
    "**Дубликатов в данных не обнаружено**, некоторые типы данных отображаются некорректно, в таблице `users_info` есть пропуски в колонке *churn_date*.  "
   ]
  },
  {
   "cell_type": "markdown",
   "metadata": {},
   "source": [
    "### 1.4 Выводы <a name='1.4'></a>\n",
    "  \n",
    "В работе нужно учесть следующие моменты:\n",
    "* Независимо от тарифа всегда округляются вверх вверх значения минут и мегабайтов. Если пользователь проговорил 1 секунду, в тарифе засчитывается минута: **необходимо округлить вверх значения в столбцах** \"duration\" (таблица data_calls) и \"mb_used\" (таблица data_internet) и перевести в тип данных  `int64`.   \n",
    "* Также в столбцах \"duration\" и \"mb_used\" **есть нулевые значения**, которые влияют на среднее количество и среднюю стоимость одного звонка/интернет-сессии: пропущенные звонки и отсутствие сети могли стать причиной появления нулевых значений.  \n",
    "* **Пропущенные значения в столбце \"churn_date\"** таблицы data_users говорят о том, что на момент получения данных абонент был подключен к тарифному плану.   \n",
    "* Стоит обратить внимание на то, что клиенты подключали тариф в течение года и есть пользователи, которые отключили тариф: срок использования тарифа может говорить об его удобстве/выгодности для клиента и других явлениях. **Далее мы будем считать, что стоимость тарифного плана снимается в начале месяца за весь месяц** и не возвращается в случае досрочного отключения тарифного плана.  \n",
    "* Необходимо перевести в тип данных `datatime` столбцы с датами в таблицах: churn_date, reg_date, call_date, session_date, message_date."
   ]
  },
  {
   "cell_type": "markdown",
   "metadata": {},
   "source": [
    "# Часть 2. Подготовка данных к анализу <a name='2'></a>"
   ]
  },
  {
   "cell_type": "markdown",
   "metadata": {},
   "source": [
    "### 2.1 Замена типов данных <a name='2.1'></a>"
   ]
  },
  {
   "cell_type": "code",
   "execution_count": 5,
   "metadata": {},
   "outputs": [],
   "source": [
    "# округлим вверх значения в столбцах duration и mb_used\n",
    "data_calls[\"duration\"] = data_calls[\"duration\"].apply(math.ceil)\n",
    "data_internet[\"mb_used\"] = data_internet[\"mb_used\"].apply(math.ceil)"
   ]
  },
  {
   "cell_type": "code",
   "execution_count": 6,
   "metadata": {},
   "outputs": [],
   "source": [
    "# изменим тип данных для столбцов с датами\n",
    "# и создадим новый столбец \"month\"\n",
    "\n",
    "# автоматизируем процесс с помощью функции\n",
    "def correct_date(data):\n",
    "    for column in data:\n",
    "        if \"date\" in column:\n",
    "            data[column] = pd.to_datetime(data[column], format=\"%Y-%m-%d\")\n",
    "            data[\"month\"] = data[column].dt.month"
   ]
  },
  {
   "cell_type": "code",
   "execution_count": 7,
   "metadata": {
    "scrolled": false
   },
   "outputs": [
    {
     "name": "stdout",
     "output_type": "stream",
     "text": [
      "\u001b[34mИнформация по таблице 'calls'\u001b[0m\n",
      "<class 'pandas.core.frame.DataFrame'>\n",
      "RangeIndex: 202607 entries, 0 to 202606\n",
      "Data columns (total 5 columns):\n",
      " #   Column     Non-Null Count   Dtype         \n",
      "---  ------     --------------   -----         \n",
      " 0   id         202607 non-null  object        \n",
      " 1   call_date  202607 non-null  datetime64[ns]\n",
      " 2   duration   202607 non-null  int64         \n",
      " 3   user_id    202607 non-null  int64         \n",
      " 4   month      202607 non-null  int64         \n",
      "dtypes: datetime64[ns](1), int64(3), object(1)\n",
      "memory usage: 7.7+ MB\n"
     ]
    },
    {
     "data": {
      "text/plain": [
       "None"
      ]
     },
     "metadata": {},
     "output_type": "display_data"
    },
    {
     "name": "stdout",
     "output_type": "stream",
     "text": [
      "\u001b[34mИнформация по таблице 'internet'\u001b[0m\n",
      "<class 'pandas.core.frame.DataFrame'>\n",
      "RangeIndex: 149396 entries, 0 to 149395\n",
      "Data columns (total 6 columns):\n",
      " #   Column        Non-Null Count   Dtype         \n",
      "---  ------        --------------   -----         \n",
      " 0   Unnamed: 0    149396 non-null  int64         \n",
      " 1   id            149396 non-null  object        \n",
      " 2   mb_used       149396 non-null  int64         \n",
      " 3   session_date  149396 non-null  datetime64[ns]\n",
      " 4   user_id       149396 non-null  int64         \n",
      " 5   month         149396 non-null  int64         \n",
      "dtypes: datetime64[ns](1), int64(4), object(1)\n",
      "memory usage: 6.8+ MB\n"
     ]
    },
    {
     "data": {
      "text/plain": [
       "None"
      ]
     },
     "metadata": {},
     "output_type": "display_data"
    },
    {
     "name": "stdout",
     "output_type": "stream",
     "text": [
      "\u001b[34mИнформация по таблице 'messages'\u001b[0m\n",
      "<class 'pandas.core.frame.DataFrame'>\n",
      "RangeIndex: 123036 entries, 0 to 123035\n",
      "Data columns (total 4 columns):\n",
      " #   Column        Non-Null Count   Dtype         \n",
      "---  ------        --------------   -----         \n",
      " 0   id            123036 non-null  object        \n",
      " 1   message_date  123036 non-null  datetime64[ns]\n",
      " 2   user_id       123036 non-null  int64         \n",
      " 3   month         123036 non-null  int64         \n",
      "dtypes: datetime64[ns](1), int64(2), object(1)\n",
      "memory usage: 3.8+ MB\n"
     ]
    },
    {
     "data": {
      "text/plain": [
       "None"
      ]
     },
     "metadata": {},
     "output_type": "display_data"
    },
    {
     "name": "stdout",
     "output_type": "stream",
     "text": [
      "\u001b[34mИнформация по таблице 'tariffs info'\u001b[0m\n",
      "<class 'pandas.core.frame.DataFrame'>\n",
      "RangeIndex: 2 entries, 0 to 1\n",
      "Data columns (total 8 columns):\n",
      " #   Column                 Non-Null Count  Dtype \n",
      "---  ------                 --------------  ----- \n",
      " 0   messages_included      2 non-null      int64 \n",
      " 1   mb_per_month_included  2 non-null      int64 \n",
      " 2   minutes_included       2 non-null      int64 \n",
      " 3   rub_monthly_fee        2 non-null      int64 \n",
      " 4   rub_per_gb             2 non-null      int64 \n",
      " 5   rub_per_message        2 non-null      int64 \n",
      " 6   rub_per_minute         2 non-null      int64 \n",
      " 7   tariff_name            2 non-null      object\n",
      "dtypes: int64(7), object(1)\n",
      "memory usage: 256.0+ bytes\n"
     ]
    },
    {
     "data": {
      "text/plain": [
       "None"
      ]
     },
     "metadata": {},
     "output_type": "display_data"
    },
    {
     "name": "stdout",
     "output_type": "stream",
     "text": [
      "\u001b[34mИнформация по таблице 'users info'\u001b[0m\n",
      "<class 'pandas.core.frame.DataFrame'>\n",
      "RangeIndex: 500 entries, 0 to 499\n",
      "Data columns (total 9 columns):\n",
      " #   Column      Non-Null Count  Dtype         \n",
      "---  ------      --------------  -----         \n",
      " 0   user_id     500 non-null    int64         \n",
      " 1   age         500 non-null    int64         \n",
      " 2   churn_date  38 non-null     datetime64[ns]\n",
      " 3   city        500 non-null    object        \n",
      " 4   first_name  500 non-null    object        \n",
      " 5   last_name   500 non-null    object        \n",
      " 6   reg_date    500 non-null    datetime64[ns]\n",
      " 7   tariff      500 non-null    object        \n",
      " 8   month       500 non-null    int64         \n",
      "dtypes: datetime64[ns](2), int64(3), object(4)\n",
      "memory usage: 35.3+ KB\n"
     ]
    },
    {
     "data": {
      "text/plain": [
       "None"
      ]
     },
     "metadata": {},
     "output_type": "display_data"
    }
   ],
   "source": [
    "# применим функцию ко всем таблицам с помощью словаря \"data_name\"\n",
    "for key in data_name:\n",
    "    correct_date(data_name[key])\n",
    "    # проверяем результат замены типов данных\n",
    "    print(\"\\033[34mИнформация по таблице '{}'\\033[0m\".format(key))\n",
    "    display(data_name[key].info())"
   ]
  },
  {
   "cell_type": "markdown",
   "metadata": {},
   "source": [
    "### 2.2 Дополнительные расчеты и агрегация данных в единую таблицу <a name='2.2'></a>"
   ]
  },
  {
   "cell_type": "code",
   "execution_count": 8,
   "metadata": {},
   "outputs": [
    {
     "data": {
      "text/html": [
       "<div>\n",
       "<style scoped>\n",
       "    .dataframe tbody tr th:only-of-type {\n",
       "        vertical-align: middle;\n",
       "    }\n",
       "\n",
       "    .dataframe tbody tr th {\n",
       "        vertical-align: top;\n",
       "    }\n",
       "\n",
       "    .dataframe thead th {\n",
       "        text-align: right;\n",
       "    }\n",
       "</style>\n",
       "<table border=\"1\" class=\"dataframe\">\n",
       "  <thead>\n",
       "    <tr style=\"text-align: right;\">\n",
       "      <th></th>\n",
       "      <th>user_id</th>\n",
       "      <th>month</th>\n",
       "      <th>calls_total</th>\n",
       "      <th>duration_sum</th>\n",
       "    </tr>\n",
       "  </thead>\n",
       "  <tbody>\n",
       "    <tr>\n",
       "      <th>0</th>\n",
       "      <td>1000</td>\n",
       "      <td>5</td>\n",
       "      <td>22</td>\n",
       "      <td>159</td>\n",
       "    </tr>\n",
       "    <tr>\n",
       "      <th>1</th>\n",
       "      <td>1000</td>\n",
       "      <td>6</td>\n",
       "      <td>43</td>\n",
       "      <td>172</td>\n",
       "    </tr>\n",
       "    <tr>\n",
       "      <th>2</th>\n",
       "      <td>1000</td>\n",
       "      <td>7</td>\n",
       "      <td>47</td>\n",
       "      <td>340</td>\n",
       "    </tr>\n",
       "  </tbody>\n",
       "</table>\n",
       "</div>"
      ],
      "text/plain": [
       "   user_id  month  calls_total  duration_sum\n",
       "0     1000      5           22           159\n",
       "1     1000      6           43           172\n",
       "2     1000      7           47           340"
      ]
     },
     "execution_count": 8,
     "metadata": {},
     "output_type": "execute_result"
    }
   ],
   "source": [
    "# подсчитаем кол-во сделанных звонков и их продолжительность по месяцам\n",
    "calls = (\n",
    "    data_calls\n",
    "    .pivot_table(index=[\"user_id\", \"month\"], values=\"duration\", aggfunc=[\"count\", \"sum\"])\n",
    "    .reset_index()\n",
    ")\n",
    "\n",
    "# переименуем столбцы\n",
    "calls.columns = [\"user_id\", \"month\", \"calls_total\", \"duration_sum\"]\n",
    "\n",
    "# проверим результат\n",
    "calls.head(3)"
   ]
  },
  {
   "cell_type": "code",
   "execution_count": 9,
   "metadata": {},
   "outputs": [
    {
     "data": {
      "text/html": [
       "<div>\n",
       "<style scoped>\n",
       "    .dataframe tbody tr th:only-of-type {\n",
       "        vertical-align: middle;\n",
       "    }\n",
       "\n",
       "    .dataframe tbody tr th {\n",
       "        vertical-align: top;\n",
       "    }\n",
       "\n",
       "    .dataframe thead th {\n",
       "        text-align: right;\n",
       "    }\n",
       "</style>\n",
       "<table border=\"1\" class=\"dataframe\">\n",
       "  <thead>\n",
       "    <tr style=\"text-align: right;\">\n",
       "      <th></th>\n",
       "      <th>user_id</th>\n",
       "      <th>month</th>\n",
       "      <th>messages_count</th>\n",
       "    </tr>\n",
       "  </thead>\n",
       "  <tbody>\n",
       "    <tr>\n",
       "      <th>0</th>\n",
       "      <td>1000</td>\n",
       "      <td>5</td>\n",
       "      <td>22</td>\n",
       "    </tr>\n",
       "    <tr>\n",
       "      <th>1</th>\n",
       "      <td>1000</td>\n",
       "      <td>6</td>\n",
       "      <td>60</td>\n",
       "    </tr>\n",
       "    <tr>\n",
       "      <th>2</th>\n",
       "      <td>1000</td>\n",
       "      <td>7</td>\n",
       "      <td>75</td>\n",
       "    </tr>\n",
       "  </tbody>\n",
       "</table>\n",
       "</div>"
      ],
      "text/plain": [
       "   user_id  month  messages_count\n",
       "0     1000      5              22\n",
       "1     1000      6              60\n",
       "2     1000      7              75"
      ]
     },
     "execution_count": 9,
     "metadata": {},
     "output_type": "execute_result"
    }
   ],
   "source": [
    "# подсчитаем количество отправленных сообщений по месяцам\n",
    "messages = (\n",
    "    data_messages\n",
    "    .pivot_table(index=[\"user_id\", \"month\"], values=\"id\", aggfunc=\"count\")\n",
    "    .reset_index()\n",
    ")\n",
    "\n",
    "# переименуем столбцы\n",
    "messages.columns = [\"user_id\", \"month\", \"messages_count\"]\n",
    "\n",
    "# проверим результат\n",
    "messages.head(3)"
   ]
  },
  {
   "cell_type": "code",
   "execution_count": 10,
   "metadata": {},
   "outputs": [
    {
     "data": {
      "text/html": [
       "<div>\n",
       "<style scoped>\n",
       "    .dataframe tbody tr th:only-of-type {\n",
       "        vertical-align: middle;\n",
       "    }\n",
       "\n",
       "    .dataframe tbody tr th {\n",
       "        vertical-align: top;\n",
       "    }\n",
       "\n",
       "    .dataframe thead th {\n",
       "        text-align: right;\n",
       "    }\n",
       "</style>\n",
       "<table border=\"1\" class=\"dataframe\">\n",
       "  <thead>\n",
       "    <tr style=\"text-align: right;\">\n",
       "      <th></th>\n",
       "      <th>user_id</th>\n",
       "      <th>month</th>\n",
       "      <th>mb_used</th>\n",
       "    </tr>\n",
       "  </thead>\n",
       "  <tbody>\n",
       "    <tr>\n",
       "      <th>0</th>\n",
       "      <td>1000</td>\n",
       "      <td>5</td>\n",
       "      <td>2256</td>\n",
       "    </tr>\n",
       "    <tr>\n",
       "      <th>1</th>\n",
       "      <td>1000</td>\n",
       "      <td>6</td>\n",
       "      <td>23257</td>\n",
       "    </tr>\n",
       "    <tr>\n",
       "      <th>2</th>\n",
       "      <td>1000</td>\n",
       "      <td>7</td>\n",
       "      <td>14016</td>\n",
       "    </tr>\n",
       "  </tbody>\n",
       "</table>\n",
       "</div>"
      ],
      "text/plain": [
       "   user_id  month  mb_used\n",
       "0     1000      5     2256\n",
       "1     1000      6    23257\n",
       "2     1000      7    14016"
      ]
     },
     "execution_count": 10,
     "metadata": {},
     "output_type": "execute_result"
    }
   ],
   "source": [
    "# подсчитаем объем израсходованного интернет-трафика по месяцам\n",
    "internet = (\n",
    "    data_internet\n",
    "    .pivot_table(index=[\"user_id\", \"month\"], values=\"mb_used\", aggfunc=\"sum\")\n",
    "    .reset_index()\n",
    ")\n",
    "\n",
    "# проверим результат\n",
    "internet.head(3)"
   ]
  },
  {
   "cell_type": "code",
   "execution_count": 11,
   "metadata": {},
   "outputs": [],
   "source": [
    "# сохраним необходимые данные из словаря-базы данных по клиентам\n",
    "users = data_users[[\"user_id\", \"city\", \"tariff\"]]"
   ]
  },
  {
   "cell_type": "code",
   "execution_count": 12,
   "metadata": {},
   "outputs": [
    {
     "name": "stdout",
     "output_type": "stream",
     "text": [
      "<class 'pandas.core.frame.DataFrame'>\n",
      "Int64Index: 3214 entries, 0 to 3213\n",
      "Data columns (total 8 columns):\n",
      " #   Column          Non-Null Count  Dtype \n",
      "---  ------          --------------  ----- \n",
      " 0   user_id         3214 non-null   Int64 \n",
      " 1   month           3214 non-null   Int64 \n",
      " 2   calls_total     3174 non-null   Int64 \n",
      " 3   duration_sum    3174 non-null   Int64 \n",
      " 4   messages_count  2717 non-null   Int64 \n",
      " 5   mb_used         3203 non-null   Int64 \n",
      " 6   city            3214 non-null   object\n",
      " 7   tariff          3214 non-null   object\n",
      "dtypes: Int64(6), object(2)\n",
      "memory usage: 244.8+ KB\n"
     ]
    },
    {
     "data": {
      "text/html": [
       "<div>\n",
       "<style scoped>\n",
       "    .dataframe tbody tr th:only-of-type {\n",
       "        vertical-align: middle;\n",
       "    }\n",
       "\n",
       "    .dataframe tbody tr th {\n",
       "        vertical-align: top;\n",
       "    }\n",
       "\n",
       "    .dataframe thead th {\n",
       "        text-align: right;\n",
       "    }\n",
       "</style>\n",
       "<table border=\"1\" class=\"dataframe\">\n",
       "  <thead>\n",
       "    <tr style=\"text-align: right;\">\n",
       "      <th></th>\n",
       "      <th>month</th>\n",
       "      <th>calls_total</th>\n",
       "      <th>duration_sum</th>\n",
       "      <th>messages_count</th>\n",
       "      <th>mb_used</th>\n",
       "      <th>city</th>\n",
       "      <th>tariff</th>\n",
       "    </tr>\n",
       "    <tr>\n",
       "      <th>user_id</th>\n",
       "      <th></th>\n",
       "      <th></th>\n",
       "      <th></th>\n",
       "      <th></th>\n",
       "      <th></th>\n",
       "      <th></th>\n",
       "      <th></th>\n",
       "    </tr>\n",
       "  </thead>\n",
       "  <tbody>\n",
       "    <tr>\n",
       "      <th>1000</th>\n",
       "      <td>5</td>\n",
       "      <td>22</td>\n",
       "      <td>159</td>\n",
       "      <td>22</td>\n",
       "      <td>2256</td>\n",
       "      <td>Краснодар</td>\n",
       "      <td>ultra</td>\n",
       "    </tr>\n",
       "    <tr>\n",
       "      <th>1001</th>\n",
       "      <td>11</td>\n",
       "      <td>59</td>\n",
       "      <td>430</td>\n",
       "      <td>&lt;NA&gt;</td>\n",
       "      <td>18452</td>\n",
       "      <td>Москва</td>\n",
       "      <td>smart</td>\n",
       "    </tr>\n",
       "    <tr>\n",
       "      <th>1002</th>\n",
       "      <td>6</td>\n",
       "      <td>15</td>\n",
       "      <td>117</td>\n",
       "      <td>4</td>\n",
       "      <td>10871</td>\n",
       "      <td>Стерлитамак</td>\n",
       "      <td>smart</td>\n",
       "    </tr>\n",
       "  </tbody>\n",
       "</table>\n",
       "</div>"
      ],
      "text/plain": [
       "         month  calls_total  duration_sum  messages_count  mb_used  \\\n",
       "user_id                                                              \n",
       "1000         5           22           159              22     2256   \n",
       "1001        11           59           430            <NA>    18452   \n",
       "1002         6           15           117               4    10871   \n",
       "\n",
       "                city tariff  \n",
       "user_id                      \n",
       "1000       Краснодар  ultra  \n",
       "1001          Москва  smart  \n",
       "1002     Стерлитамак  smart  "
      ]
     },
     "execution_count": 12,
     "metadata": {},
     "output_type": "execute_result"
    }
   ],
   "source": [
    "# создадим единую таблицу с данными\n",
    "data_megaline_users = (\n",
    "    calls\n",
    "    .merge(messages, how=\"outer\")\n",
    "    .merge(internet, how=\"outer\")\n",
    "    .astype(\"Int64\")\n",
    "    .merge(users)\n",
    ")\n",
    "\n",
    "# проверим результат\n",
    "data_megaline_users.info()\n",
    "data_megaline_users.groupby(\"user_id\").first().head(3)"
   ]
  },
  {
   "cell_type": "code",
   "execution_count": 13,
   "metadata": {},
   "outputs": [
    {
     "data": {
      "text/plain": [
       "user_id             0\n",
       "month               0\n",
       "calls_total        40\n",
       "duration_sum       40\n",
       "messages_count    497\n",
       "mb_used            11\n",
       "city                0\n",
       "tariff              0\n",
       "dtype: int64"
      ]
     },
     "execution_count": 13,
     "metadata": {},
     "output_type": "execute_result"
    }
   ],
   "source": [
    "# изучим наличие пропусков и узнаем какими услугами меньше всего пользуются\n",
    "data_megaline_users.isnull().sum()"
   ]
  },
  {
   "cell_type": "code",
   "execution_count": 14,
   "metadata": {},
   "outputs": [
    {
     "name": "stdout",
     "output_type": "stream",
     "text": [
      "Количество звонков равных 0,0 минут:  39613\n",
      "Количество звонков всего:  202607\n"
     ]
    }
   ],
   "source": [
    "print(\"Количество звонков равных 0,0 минут: \", data_calls.query(\"duration == 0\")[\"duration\"].count())\n",
    "print(\"Количество звонков всего: \", data_calls[\"duration\"].count())"
   ]
  },
  {
   "cell_type": "markdown",
   "metadata": {},
   "source": [
    "#### Промежуточный вывод  <a name='2.2.2'></a>\n",
    "  \n",
    "В таблице `data_calls` находятся данные о 202607 звонках, из которых 39613 равны 0 минут 0 секунд разговора. Такие звонки не учитываются в тарифах компании, поэтому они не влияют на суммарное количество израсходованных минут связи. Для дальнейшего исследования количество сделанных звонков не важно, поэтому в таблице сохранено только  общее количество сделанных звонков без изменений.  \n",
    "  \n",
    "Если в дальнейшем понадобится узнать такие параметры, как средняя продолжительность разговора в месяц/год, звонки с нулевыми значениями могут повлиять на результат (занизить среднюю продолжительность) — это необходимо учесть, опираясь на цели исследования. Для этого достаточно добавить при создании таблицы `calls` условие `.query(\"duration > 0\")` — так получим срез по ненулевым звонкам и составим сводную таблицу, по которой можно вести расчеты средней продолжительности разговора.  \n",
    "  \n",
    "**На данном этапе получена сводная таблица** `data_megaline_users` с минутами разговора, количеством сообщений, израсходованном интернет-трафиком по месяцам за 2018 год, а также с данными о месте проживания и подключенному тарифу по id пользователей. *В таблице есть пропуски*, говорящие о том, что пользователи не используют некоторые  услуги в рамках тарифа. Наибольшее количество пропусков — 497 — у услуги смс-сообщений. *Далее эти пропуски заменим на 0.*"
   ]
  },
  {
   "cell_type": "code",
   "execution_count": 15,
   "metadata": {
    "scrolled": true
   },
   "outputs": [
    {
     "data": {
      "text/plain": [
       "user_id           0\n",
       "month             0\n",
       "calls_total       0\n",
       "duration_sum      0\n",
       "messages_count    0\n",
       "mb_used           0\n",
       "city              0\n",
       "tariff            0\n",
       "dtype: int64"
      ]
     },
     "execution_count": 15,
     "metadata": {},
     "output_type": "execute_result"
    }
   ],
   "source": [
    "# заменим пропущенные значения на 0\n",
    "data_megaline_users = data_megaline_users.fillna(0)\n",
    "data_megaline_users.isnull().sum()"
   ]
  },
  {
   "cell_type": "markdown",
   "metadata": {},
   "source": [
    "Далее вычислим помесячную выручку с каждого пользователя: <a name='2.2.3'></a>"
   ]
  },
  {
   "cell_type": "code",
   "execution_count": 16,
   "metadata": {},
   "outputs": [],
   "source": [
    "# автоматизируем с помощью функции\n",
    "def revenue_megaline(data):\n",
    "    # переменные для рассчетов\n",
    "    calls = data[\"duration_sum\"]\n",
    "    sms = data[\"messages_count\"]\n",
    "    inet = data[\"mb_used\"]\n",
    "    tariff = data[\"tariff\"]\n",
    "    # условия обслуживания по тарифному плану\n",
    "    calls_cost = int(data_tariffs.loc[data_tariffs[\"tariff_name\"] == tariff, \"minutes_included\"])\n",
    "    sms_cost = int(data_tariffs.loc[data_tariffs[\"tariff_name\"] == tariff, \"messages_included\"])\n",
    "    inet_cost = int(data_tariffs.loc[data_tariffs[\"tariff_name\"] == tariff, \"mb_per_month_included\"])\n",
    "    tariff_cost = int(data_tariffs.loc[data_tariffs[\"tariff_name\"] == tariff, \"rub_monthly_fee\"])\n",
    "    # рассчитаем итоговую стоимость услуг\n",
    "    revenue = (\n",
    "        # стоимость разговоров сверх тарифного плана\n",
    "        max(calls - calls_cost, 0) * int(data_tariffs.loc[data_tariffs[\"tariff_name\"] == tariff, \"rub_per_minute\"])\n",
    "        # стоимость отправленных сообщений \n",
    "        + max(sms - sms_cost, 0) * int(data_tariffs.loc[data_tariffs[\"tariff_name\"] == tariff, \"rub_per_message\"])\n",
    "        # стоимость интернета сверх тарифа (округление в большую сторону до Гб)\n",
    "        + math.ceil(max(inet - inet_cost, 0) / 1024) \n",
    "        * int(data_tariffs.loc[data_tariffs[\"tariff_name\"] == tariff, \"rub_per_gb\"])\n",
    "        # абонентская плата по тарифу\n",
    "        + tariff_cost\n",
    "        )\n",
    "    return revenue"
   ]
  },
  {
   "cell_type": "code",
   "execution_count": 17,
   "metadata": {},
   "outputs": [
    {
     "data": {
      "text/html": [
       "<div>\n",
       "<style scoped>\n",
       "    .dataframe tbody tr th:only-of-type {\n",
       "        vertical-align: middle;\n",
       "    }\n",
       "\n",
       "    .dataframe tbody tr th {\n",
       "        vertical-align: top;\n",
       "    }\n",
       "\n",
       "    .dataframe thead th {\n",
       "        text-align: right;\n",
       "    }\n",
       "</style>\n",
       "<table border=\"1\" class=\"dataframe\">\n",
       "  <thead>\n",
       "    <tr style=\"text-align: right;\">\n",
       "      <th></th>\n",
       "      <th>month</th>\n",
       "      <th>calls_total</th>\n",
       "      <th>duration_sum</th>\n",
       "      <th>messages_count</th>\n",
       "      <th>mb_used</th>\n",
       "      <th>city</th>\n",
       "      <th>tariff</th>\n",
       "      <th>revenue</th>\n",
       "    </tr>\n",
       "    <tr>\n",
       "      <th>user_id</th>\n",
       "      <th></th>\n",
       "      <th></th>\n",
       "      <th></th>\n",
       "      <th></th>\n",
       "      <th></th>\n",
       "      <th></th>\n",
       "      <th></th>\n",
       "      <th></th>\n",
       "    </tr>\n",
       "  </thead>\n",
       "  <tbody>\n",
       "    <tr>\n",
       "      <th>1000</th>\n",
       "      <td>5</td>\n",
       "      <td>22</td>\n",
       "      <td>159</td>\n",
       "      <td>22</td>\n",
       "      <td>2256</td>\n",
       "      <td>Краснодар</td>\n",
       "      <td>ultra</td>\n",
       "      <td>1950</td>\n",
       "    </tr>\n",
       "    <tr>\n",
       "      <th>1001</th>\n",
       "      <td>11</td>\n",
       "      <td>59</td>\n",
       "      <td>430</td>\n",
       "      <td>0</td>\n",
       "      <td>18452</td>\n",
       "      <td>Москва</td>\n",
       "      <td>smart</td>\n",
       "      <td>1350</td>\n",
       "    </tr>\n",
       "    <tr>\n",
       "      <th>1002</th>\n",
       "      <td>6</td>\n",
       "      <td>15</td>\n",
       "      <td>117</td>\n",
       "      <td>4</td>\n",
       "      <td>10871</td>\n",
       "      <td>Стерлитамак</td>\n",
       "      <td>smart</td>\n",
       "      <td>550</td>\n",
       "    </tr>\n",
       "  </tbody>\n",
       "</table>\n",
       "</div>"
      ],
      "text/plain": [
       "         month  calls_total  duration_sum  messages_count  mb_used  \\\n",
       "user_id                                                              \n",
       "1000         5           22           159              22     2256   \n",
       "1001        11           59           430               0    18452   \n",
       "1002         6           15           117               4    10871   \n",
       "\n",
       "                city tariff  revenue  \n",
       "user_id                               \n",
       "1000       Краснодар  ultra     1950  \n",
       "1001          Москва  smart     1350  \n",
       "1002     Стерлитамак  smart      550  "
      ]
     },
     "execution_count": 17,
     "metadata": {},
     "output_type": "execute_result"
    }
   ],
   "source": [
    "# применим функцию к датафрейму с данными по клиентам Мегалайна\n",
    "data_megaline_users[\"revenue\"] = data_megaline_users.apply(revenue_megaline, axis=1)\n",
    "\n",
    "# проверим результат\n",
    "data_megaline_users.groupby(\"user_id\").first().head(3)"
   ]
  },
  {
   "cell_type": "markdown",
   "metadata": {},
   "source": [
    "# Выводы <a name='2.3'></a>  \n",
    "  \n",
    "На данном этапе мы подсчитали:  \n",
    "* количество сделанных звонков и израсходованных минут разговора по месяцам (колонки `calls_total` и `duration_sum`),\n",
    "* количество отправленных сообщений по месяцам (`messages_count`),  \n",
    "* объем израсходованного интернет-трафика по месяцам (`mb_used`),  \n",
    "* помесячную выручку с каждого пользователя сохранили в колонке `revenue`.  \n",
    "  \n",
    "Пропущенные значения заменили на 0, исходя из логики, что отсутствие данных говорит о том, что клиент данной услугой не пользовался. Замена была также необходима для расчета общей выручки по месяцам для каждого клиента.  \n",
    "  \n",
    "При расчете стоимости интернет-услуг, использованных сверх тарифа учитывалось, что по условиям тарифа компания округляет вверх значения минут и мегабайтов: стоимость дополнительного трафика указана в рублях за Гб, соответственно клиент приобретает дополнительно к тарифу трафик в Гб, а не оплачивает услуги интернета по мегабайтам. "
   ]
  },
  {
   "cell_type": "markdown",
   "metadata": {},
   "source": [
    "# Часть 3. Анализ ключевых тарифных планов компании <a name='3'></a>"
   ]
  },
  {
   "cell_type": "markdown",
   "metadata": {},
   "source": [
    "### 3.1 Подготовка данных и анализ основных статистических показателей"
   ]
  },
  {
   "cell_type": "code",
   "execution_count": 18,
   "metadata": {
    "scrolled": true
   },
   "outputs": [
    {
     "data": {
      "text/html": [
       "<div>\n",
       "<style scoped>\n",
       "    .dataframe tbody tr th:only-of-type {\n",
       "        vertical-align: middle;\n",
       "    }\n",
       "\n",
       "    .dataframe tbody tr th {\n",
       "        vertical-align: top;\n",
       "    }\n",
       "\n",
       "    .dataframe thead th {\n",
       "        text-align: right;\n",
       "    }\n",
       "</style>\n",
       "<table border=\"1\" class=\"dataframe\">\n",
       "  <thead>\n",
       "    <tr style=\"text-align: right;\">\n",
       "      <th></th>\n",
       "      <th>user_id</th>\n",
       "      <th>month</th>\n",
       "      <th>calls_total</th>\n",
       "      <th>duration_sum</th>\n",
       "      <th>messages_count</th>\n",
       "      <th>mb_used</th>\n",
       "      <th>city</th>\n",
       "      <th>tariff</th>\n",
       "      <th>revenue</th>\n",
       "    </tr>\n",
       "  </thead>\n",
       "  <tbody>\n",
       "    <tr>\n",
       "      <th>0</th>\n",
       "      <td>1001</td>\n",
       "      <td>11</td>\n",
       "      <td>59</td>\n",
       "      <td>430</td>\n",
       "      <td>0</td>\n",
       "      <td>18452</td>\n",
       "      <td>Москва</td>\n",
       "      <td>smart</td>\n",
       "      <td>1350</td>\n",
       "    </tr>\n",
       "    <tr>\n",
       "      <th>1</th>\n",
       "      <td>1001</td>\n",
       "      <td>12</td>\n",
       "      <td>63</td>\n",
       "      <td>414</td>\n",
       "      <td>0</td>\n",
       "      <td>14053</td>\n",
       "      <td>Москва</td>\n",
       "      <td>smart</td>\n",
       "      <td>550</td>\n",
       "    </tr>\n",
       "    <tr>\n",
       "      <th>2</th>\n",
       "      <td>1002</td>\n",
       "      <td>6</td>\n",
       "      <td>15</td>\n",
       "      <td>117</td>\n",
       "      <td>4</td>\n",
       "      <td>10871</td>\n",
       "      <td>Стерлитамак</td>\n",
       "      <td>smart</td>\n",
       "      <td>550</td>\n",
       "    </tr>\n",
       "  </tbody>\n",
       "</table>\n",
       "</div>"
      ],
      "text/plain": [
       "   user_id  month  calls_total  duration_sum  messages_count  mb_used  \\\n",
       "0     1001     11           59           430               0    18452   \n",
       "1     1001     12           63           414               0    14053   \n",
       "2     1002      6           15           117               4    10871   \n",
       "\n",
       "          city tariff  revenue  \n",
       "0       Москва  smart     1350  \n",
       "1       Москва  smart      550  \n",
       "2  Стерлитамак  smart      550  "
      ]
     },
     "metadata": {},
     "output_type": "display_data"
    },
    {
     "data": {
      "text/html": [
       "<div>\n",
       "<style scoped>\n",
       "    .dataframe tbody tr th:only-of-type {\n",
       "        vertical-align: middle;\n",
       "    }\n",
       "\n",
       "    .dataframe tbody tr th {\n",
       "        vertical-align: top;\n",
       "    }\n",
       "\n",
       "    .dataframe thead th {\n",
       "        text-align: right;\n",
       "    }\n",
       "</style>\n",
       "<table border=\"1\" class=\"dataframe\">\n",
       "  <thead>\n",
       "    <tr style=\"text-align: right;\">\n",
       "      <th></th>\n",
       "      <th>user_id</th>\n",
       "      <th>month</th>\n",
       "      <th>calls_total</th>\n",
       "      <th>duration_sum</th>\n",
       "      <th>messages_count</th>\n",
       "      <th>mb_used</th>\n",
       "      <th>city</th>\n",
       "      <th>tariff</th>\n",
       "      <th>revenue</th>\n",
       "    </tr>\n",
       "  </thead>\n",
       "  <tbody>\n",
       "    <tr>\n",
       "      <th>0</th>\n",
       "      <td>1000</td>\n",
       "      <td>5</td>\n",
       "      <td>22</td>\n",
       "      <td>159</td>\n",
       "      <td>22</td>\n",
       "      <td>2256</td>\n",
       "      <td>Краснодар</td>\n",
       "      <td>ultra</td>\n",
       "      <td>1950</td>\n",
       "    </tr>\n",
       "    <tr>\n",
       "      <th>1</th>\n",
       "      <td>1000</td>\n",
       "      <td>6</td>\n",
       "      <td>43</td>\n",
       "      <td>172</td>\n",
       "      <td>60</td>\n",
       "      <td>23257</td>\n",
       "      <td>Краснодар</td>\n",
       "      <td>ultra</td>\n",
       "      <td>1950</td>\n",
       "    </tr>\n",
       "    <tr>\n",
       "      <th>2</th>\n",
       "      <td>1000</td>\n",
       "      <td>7</td>\n",
       "      <td>47</td>\n",
       "      <td>340</td>\n",
       "      <td>75</td>\n",
       "      <td>14016</td>\n",
       "      <td>Краснодар</td>\n",
       "      <td>ultra</td>\n",
       "      <td>1950</td>\n",
       "    </tr>\n",
       "  </tbody>\n",
       "</table>\n",
       "</div>"
      ],
      "text/plain": [
       "   user_id  month  calls_total  duration_sum  messages_count  mb_used  \\\n",
       "0     1000      5           22           159              22     2256   \n",
       "1     1000      6           43           172              60    23257   \n",
       "2     1000      7           47           340              75    14016   \n",
       "\n",
       "        city tariff  revenue  \n",
       "0  Краснодар  ultra     1950  \n",
       "1  Краснодар  ultra     1950  \n",
       "2  Краснодар  ultra     1950  "
      ]
     },
     "metadata": {},
     "output_type": "display_data"
    }
   ],
   "source": [
    "# пользователи тарифа \"smart\"\n",
    "data_megaline_smart = data_megaline_users.query(\"tariff == 'smart'\").reset_index(drop=True)\n",
    "\n",
    "# пользователи тарифа \"ultra\"\n",
    "data_megaline_ultra = data_megaline_users.query(\"tariff == 'ultra'\").reset_index(drop=True)\n",
    "\n",
    "# проверим результат\n",
    "display(data_megaline_smart.head(3), data_megaline_ultra.head(3))"
   ]
  },
  {
   "cell_type": "markdown",
   "metadata": {},
   "source": [
    "Узнаем среднее количество, дисперсию и стандартное отклонение для каждого тарифа по столбцам \"duration_sum\", \"messages_count\" и \"mb_used\" и построем гистограммы.\n"
   ]
  },
  {
   "cell_type": "code",
   "execution_count": 19,
   "metadata": {},
   "outputs": [],
   "source": [
    "# составим словарь для автоматизации подсчетов\n",
    "dict_used_tariff = ({\n",
    "    \"duration_sum\" : \"calls_duration\",\n",
    "    \"messages_count\" : \"messages_count\",\n",
    "    \"mb_used\" : \"internet_traffic\"\n",
    "})\n",
    "\n",
    "# функция подсчета среднего, дисперсии и стандартного отклонения для выборки\n",
    "def math_stat(data):\n",
    "    print(\"Среднее значение: \", data.mean().round(1), \"(медиана: {})\".format(data.median()))\n",
    "    print(\"Дисперсия: \", np.var(data, ddof=1).round(1))\n",
    "    print(\"Стандартное отклонение: \", np.std(data, ddof=1).round(1))\n",
    "\n",
    "# функция для автоматизации постоения гистограмм\n",
    "def hist_stat(data_one, data_two, dict_data):\n",
    "    sns.set(rc={\"figure.figsize\":(19, 7)}, font_scale = 1, style=\"darkgrid\", palette=\"rainbow\")\n",
    "    \n",
    "    ax = data_one.hist(bins=50, alpha=0.5, label=\"ultra\")\n",
    "    data_two.hist(bins=50, alpha=0.5, label=\"smart\")\n",
    "    \n",
    "    ax.set_ylabel(\"Количество пользователей\")\n",
    "    ax.set_xlabel(\"{}\".format(dict_data))\n",
    "    ax.legend()\n",
    "    \n",
    "    plt.show()"
   ]
  },
  {
   "cell_type": "code",
   "execution_count": 20,
   "metadata": {},
   "outputs": [
    {
     "name": "stdout",
     "output_type": "stream",
     "text": [
      "\u001b[1m\u001b[34mСтатистические данные по параметру 'calls_duration' для тарифов Мегалайн\n"
     ]
    },
    {
     "data": {
      "image/png": "[encoded data removed]",
      "text/plain": [
       "<Figure size 1368x504 with 1 Axes>"
      ]
     },
     "metadata": {},
     "output_type": "display_data"
    },
    {
     "name": "stdout",
     "output_type": "stream",
     "text": [
      "\u001b[1mДля тарифа 'Ultra'\u001b[0m\n",
      "Среднее значение:  526.6 (медиана: 518.0)\n",
      "Дисперсия:  100873.6\n",
      "Стандартное отклонение:  317.6\n",
      "\u001b[1mДля тарифа 'Smart'\u001b[0m\n",
      "Среднее значение:  417.9 (медиана: 422.0)\n",
      "Дисперсия:  36219.3\n",
      "Стандартное отклонение:  190.3\n",
      "\n",
      "\n",
      "\u001b[1m\u001b[34mСтатистические данные по параметру 'messages_count' для тарифов Мегалайн\n"
     ]
    },
    {
     "data": {
      "image/png": "[encoded data removed]",
      "text/plain": [
       "<Figure size 1368x504 with 1 Axes>"
      ]
     },
     "metadata": {},
     "output_type": "display_data"
    },
    {
     "name": "stdout",
     "output_type": "stream",
     "text": [
      "\u001b[1mДля тарифа 'Ultra'\u001b[0m\n",
      "Среднее значение:  49.4 (медиана: 38.0)\n",
      "Дисперсия:  2285.3\n",
      "Стандартное отклонение:  47.8\n",
      "\u001b[1mДля тарифа 'Smart'\u001b[0m\n",
      "Среднее значение:  33.4 (медиана: 28.0)\n",
      "Дисперсия:  796.8\n",
      "Стандартное отклонение:  28.2\n",
      "\n",
      "\n",
      "\u001b[1m\u001b[34mСтатистические данные по параметру 'internet_traffic' для тарифов Мегалайн\n"
     ]
    },
    {
     "data": {
      "image/png": "[encoded data removed]",
      "text/plain": [
       "<Figure size 1368x504 with 1 Axes>"
      ]
     },
     "metadata": {},
     "output_type": "display_data"
    },
    {
     "name": "stdout",
     "output_type": "stream",
     "text": [
      "\u001b[1mДля тарифа 'Ultra'\u001b[0m\n",
      "Среднее значение:  19486.9 (медиана: 19324.0)\n",
      "Дисперсия:  101935621.0\n",
      "Стандартное отклонение:  10096.3\n",
      "\u001b[1mДля тарифа 'Smart'\u001b[0m\n",
      "Среднее значение:  16229.2 (медиана: 16531.0)\n",
      "Дисперсия:  34545911.1\n",
      "Стандартное отклонение:  5877.6\n",
      "\n",
      "\n"
     ]
    }
   ],
   "source": [
    "# создадим цикл для расчета основных статистических показателей\n",
    "for column in dict_used_tariff:\n",
    "    # применем функцию для построения гистограмм\n",
    "    print(\"\\033[1m\\033[34mСтатистические данные по параметру '{}' для тарифов Мегалайн\"\n",
    "          .format(dict_used_tariff[column]))\n",
    "    hist_stat(data_megaline_smart[column], data_megaline_ultra[column], dict_used_tariff[column])\n",
    "    # выведем основные статистики к каждой гистограмме\n",
    "    print(\"\\033[1mДля тарифа 'Ultra'\\033[0m\")\n",
    "    math_stat(data_megaline_ultra[column])\n",
    "    print(\"\\033[1mДля тарифа 'Smart'\\033[0m\")\n",
    "    math_stat(data_megaline_smart[column])\n",
    "    print(\"\\n\")"
   ]
  },
  {
   "cell_type": "markdown",
   "metadata": {},
   "source": [
    "# 3.2 Выводы  <a name='3.2'></a>  \n",
    "  \n",
    "В среднем клиенты Мегалайна, подключенные к  тарифу \"smart\", используют:  \n",
    "* 418 минут разговора из 500 доступных по тарифу,    \n",
    "* 33 смс-сообщения из 50 доступных,  \n",
    "* ~16 Гб из указанных в тарифе 15 Гб (15 360 Мб), что превышает лимит и требует дополнительной оплаты услуг (200 р за 1 Гб сверх лимита).  \n",
    "  \n",
    "Клиенты Мегалайна, использующие тариф \"Ultra\", в среднем расходуют:  \n",
    "* 527 минут разговора из 3000,  \n",
    "* 49 смс-сообщений из 1000,  \n",
    "* ~19 Гб интернет-трафика из 30 Гб.  \n",
    "  \n",
    "Учитывая данные о стандарном отклонении, можно сделать предварительный вывод, что в большинстве случаев **пользователи тарифа \"ultra\" значительно реже превышают ежемесячный лимит** своего тарифа, чем пользователи тарифа \"smart\". Пользователи тарифа \"smart\" регулярно превышают лимиты использования интернет-трафика, а по всем остальным параметрам в среднем сильно близки к лимитам.  \n",
    "  \n",
    "**Интересное наблюдение можно сделать из визуализации данных:** в общих чертах \"поведение\" клиентов обоих тарифов схоже и основная аудитория распределена относительно равномерно в диапазоне 220-700 минут разговора, 0-50 смс-сообщений и 11-25 Гб интернет-трафика.*Можно в дальнейшем углубить исследование поведения клиентов,* основываясь на гипотезе, что их основные потребности в объеме услуг одинаковы. Также можно проверить в рамках дополнительного исследования, что клиенты тарифа \"smart\" чаще следят за лимитами тарифа (гипотеза: клиенты тарифа \"smart\" расходуют большую часть лимита в первой половине месяца, а ближе к концу — ограничивают потребление услуг)."
   ]
  },
  {
   "cell_type": "markdown",
   "metadata": {},
   "source": [
    "# Часть 4. Статистическая проверка рабочих гипотез <a name='4'></a> "
   ]
  },
  {
   "cell_type": "markdown",
   "metadata": {},
   "source": [
    "Этап формирования гипотез для статистической проверки.  \n",
    "Наша задача проверить два утверждения:  \n",
    "- средняя выручка пользователей тарифов «Ультра» и «Смарт» различается,  \n",
    "- средняя выручка пользователей из Москвы отличается от выручки пользователей из других регионов.  \n",
    "  \n",
    "Нулевая гипотеза H<sub>0</sub> всегда формулируется с использованием знака равенства.  "
   ]
  },
  {
   "cell_type": "markdown",
   "metadata": {},
   "source": [
    "### 4.1 Проверга гипотез о средней выручке от разных тарифных планов <a name='4.1'></a>"
   ]
  },
  {
   "cell_type": "markdown",
   "metadata": {},
   "source": [
    "Для первого утверждения мы сформулируем гипотезу о равенстве двух генеральных совокупностей по взятым из них выборкам (независимых друг от друга). Чтобы проверить гипотезу, применим метод `scipy.stats.ttest_ind(array1, array2, equal_var)` и проведем односторонний тест.  \n",
    "  \n",
    "Посмотрим на средние показатели по выручке от двух тарифов:"
   ]
  },
  {
   "cell_type": "code",
   "execution_count": 21,
   "metadata": {},
   "outputs": [
    {
     "name": "stdout",
     "output_type": "stream",
     "text": [
      "Средняя выручка с пользователя тарифа Smart:  1294.64 \n",
      " Средняя выручка с пользователя тарифа Ultra:  2071.07\n"
     ]
    }
   ],
   "source": [
    "print(\"Средняя выручка с пользователя тарифа Smart: \", data_megaline_smart[\"revenue\"].mean().round(2), \n",
    "      \"\\n\", \n",
    "      \"Средняя выручка с пользователя тарифа Ultra: \",data_megaline_ultra[\"revenue\"].mean().round(2))"
   ]
  },
  {
   "cell_type": "markdown",
   "metadata": {},
   "source": [
    "Мы видим, что выручка по тарифу Smart, очевидно, ниже выручки по тарифу Ultra. Нам необходимо выяснить является ли этот результат статистически значимым. \n",
    "\n",
    "**Для этого сформулируем нулевую и альтернативные гипотезы:**  \n",
    "H<sub>0</sub>: средняя выручка с пользователя тарифа Smart больше или равна средней выручке Ultra,  \n",
    "H<sub>1</sub>: средняя выручка с пользователя тарифа Ultra больше средней выручки Smart.  "
   ]
  },
  {
   "cell_type": "code",
   "execution_count": 22,
   "metadata": {},
   "outputs": [],
   "source": [
    "# зададим уровень критической статистической значимости\n",
    "alpha = 0.05"
   ]
  },
  {
   "cell_type": "markdown",
   "metadata": {},
   "source": [
    "Посмотрим на дисперсии показателей выручки по тарифу Smart и Ultra. Применим написанную ранее функцию (выше мы рассчитывали среднее, этот код можно будет убрать, так как он дублирует данные функции."
   ]
  },
  {
   "cell_type": "code",
   "execution_count": 23,
   "metadata": {},
   "outputs": [
    {
     "name": "stdout",
     "output_type": "stream",
     "text": [
      "Среднее значение:  1294.6 (медиана: 1038.0)\n",
      "Дисперсия:  673931.3\n",
      "Стандартное отклонение:  820.9\n"
     ]
    }
   ],
   "source": [
    "# статистики для тарифа Smart\n",
    "math_stat(data_megaline_smart[\"revenue\"])"
   ]
  },
  {
   "cell_type": "code",
   "execution_count": 24,
   "metadata": {},
   "outputs": [
    {
     "name": "stdout",
     "output_type": "stream",
     "text": [
      "Среднее значение:  2071.1 (медиана: 1950.0)\n",
      "Дисперсия:  143491.2\n",
      "Стандартное отклонение:  378.8\n"
     ]
    }
   ],
   "source": [
    "# статистики для тарифа Ultra\n",
    "math_stat(data_megaline_ultra[\"revenue\"])"
   ]
  },
  {
   "cell_type": "markdown",
   "metadata": {},
   "source": [
    "Вывод: дисперсия для тарифа Smart больше дисперсии для тарифа Ultra почти в два раза, это означает, что мы не можем считать примерно равными дисперсии двух генеральных совокупностей и должны установить параметр `equal_var = False` при проверке гипотез ниже."
   ]
  },
  {
   "cell_type": "code",
   "execution_count": 25,
   "metadata": {
    "scrolled": true
   },
   "outputs": [
    {
     "name": "stdout",
     "output_type": "stream",
     "text": [
      "Результат теста:  Ttest_indResult(statistic=36.68175826499966, pvalue=2.7240946993530856e-246)\n",
      "p-значение для одностороннего теста:  1.3620473496765428e-246\n",
      "Отвергаем нулевую гипотезу\n"
     ]
    }
   ],
   "source": [
    "# проверим нулевую гипотезу\n",
    "result_first_hipothesis = st.stats.ttest_ind(\n",
    "    data_megaline_ultra[\"revenue\"],\n",
    "    data_megaline_smart[\"revenue\"],\n",
    "    equal_var = False\n",
    ")\n",
    "print(\"Результат теста: \", result_first_hipothesis)\n",
    "\n",
    "# на выхрде метод дает результат для для двустороннего t-теста, \n",
    "# поэтому делим p-value на 2 (у нас односторонний тест) \n",
    "# и добавляем условие \"smart revenue mean >= ultra revenue mean\"\n",
    "print(\"p-значение для одностороннего теста: \", result_first_hipothesis.pvalue / 2)\n",
    "if (result_first_hipothesis.pvalue / 2 < alpha \n",
    "    and data_megaline_ultra[\"revenue\"].mean() > data_megaline_smart[\"revenue\"].mean()):\n",
    "    print(\"Отвергаем нулевую гипотезу\")\n",
    "else:\n",
    "    print(\"Не получилось отвергнуть нулевую гипотезу\")"
   ]
  },
  {
   "cell_type": "markdown",
   "metadata": {},
   "source": [
    "#### Вывод по первой паре гипотез:\n",
    "Полученное значение p-value говорит о том, что результат является статистически значимым и мы отвергаем нулевую гипотезу** в пользу альтернативной: средняя выручка с пользователя тарифа Ultra больше средней выручки Smart.   "
   ]
  },
  {
   "cell_type": "markdown",
   "metadata": {},
   "source": [
    "### 4.2 Проверка гипотез о средней выручке по клиентам Москвы и других регионов <a name='4.2'></a>"
   ]
  },
  {
   "cell_type": "markdown",
   "metadata": {},
   "source": [
    "Для второго утверждения мы сформулируем двустороннюю гипотезу о равенстве среднего генеральной совокупности некоторому значению и проверим ее с помощью метода `scipy.stats.ttest_1samp(array, popmean)`.  \n",
    "  \n",
    "**Сформулируем нулевую и альтернативную гипотезы** для утверждения \"средняя выручка пользователей из Москвы отличается от выручки пользователей из других регионов\":   \n",
    "H<sub>0</sub>: средняя выручка по Москве равна средней выручки по остальным регионам  \n",
    "H<sub>1</sub>: средние выручки в Москве и регионах не равны  "
   ]
  },
  {
   "cell_type": "code",
   "execution_count": 26,
   "metadata": {},
   "outputs": [
    {
     "data": {
      "text/plain": [
       "array(['Архангельск', 'Астрахань', 'Балашиха', 'Барнаул', 'Белгород',\n",
       "       'Брянск', 'Владивосток', 'Владикавказ', 'Владимир', 'Волгоград',\n",
       "       'Волжский', 'Вологда', 'Воронеж', 'Грозный', 'Екатеринбург',\n",
       "       'Иваново', 'Ижевск', 'Иркутск', 'Казань', 'Калининград', 'Калуга',\n",
       "       'Кемерово', 'Киров', 'Кострома', 'Краснодар', 'Красноярск',\n",
       "       'Курган', 'Курск', 'Липецк', 'Магнитогорск', 'Махачкала', 'Москва',\n",
       "       'Мурманск', 'Набережные Челны', 'Нижневартовск', 'Нижний Новгород',\n",
       "       'Нижний Тагил', 'Новокузнецк', 'Новороссийск', 'Новосибирск',\n",
       "       'Омск', 'Оренбург', 'Орёл', 'Пенза', 'Пермь', 'Петрозаводск',\n",
       "       'Подольск', 'Ростов-на-Дону', 'Рязань', 'Самара',\n",
       "       'Санкт-Петербург', 'Саранск', 'Саратов', 'Севастополь', 'Смоленск',\n",
       "       'Сочи', 'Ставрополь', 'Стерлитамак', 'Сургут', 'Тамбов', 'Тверь',\n",
       "       'Тольятти', 'Томск', 'Тула', 'Тюмень', 'Улан-Удэ', 'Ульяновск',\n",
       "       'Уфа', 'Хабаровск', 'Химки', 'Чебоксары', 'Челябинск', 'Череповец',\n",
       "       'Чита', 'Якутск', 'Ярославль'], dtype=object)"
      ]
     },
     "execution_count": 26,
     "metadata": {},
     "output_type": "execute_result"
    }
   ],
   "source": [
    "# проверим, есть ли МО в датасете\n",
    "data_megaline_users[\"city\"].sort_values().unique()"
   ]
  },
  {
   "cell_type": "markdown",
   "metadata": {},
   "source": [
    "Химки — один из крупнейших городов-спутников Москвы, входит в Московскую область и находится в непосредственной близости от МКАД. Чтобы избежать искажения данных, мы включим Химки в выборку по городу Москва."
   ]
  },
  {
   "cell_type": "code",
   "execution_count": 27,
   "metadata": {},
   "outputs": [],
   "source": [
    "# создадим value-переменную: средняя выручка по регионам (кроме Москвы и МО)\n",
    "region_revenue_value = data_megaline_users.query(\"city != 'Москва' and city != 'Химки'\")[\"revenue\"].mean()\n",
    "\n",
    "# создадим срез данных по Москве и МО\n",
    "megaline_moscow = data_megaline_users.query(\"city == 'Москва' or city == 'Химки'\")[\"revenue\"]"
   ]
  },
  {
   "cell_type": "markdown",
   "metadata": {},
   "source": [
    "Cравним дисперсии, применим другой метод — проверка равенства средних двух генеральных совокупностей (по выборкам из них) и настроим тест Стьюдета."
   ]
  },
  {
   "cell_type": "code",
   "execution_count": 28,
   "metadata": {},
   "outputs": [
    {
     "name": "stdout",
     "output_type": "stream",
     "text": [
      "Среднее значение:  1543.4 (медиана: 1750.0)\n",
      "Дисперсия:  568492.6\n",
      "Стандартное отклонение:  754.0\n"
     ]
    }
   ],
   "source": [
    "# статистики для Москвы и Мо\n",
    "math_stat(megaline_moscow)"
   ]
  },
  {
   "cell_type": "code",
   "execution_count": 29,
   "metadata": {},
   "outputs": [
    {
     "name": "stdout",
     "output_type": "stream",
     "text": [
      "Среднее значение:  1530.0 (медиана: 1594.0)\n",
      "Дисперсия:  656456.1\n",
      "Стандартное отклонение:  810.2\n"
     ]
    }
   ],
   "source": [
    "# статистики для регионов\n",
    "megaline_region = data_megaline_users.query(\"'Москва' not in city and 'Химки' not in city\")[\"revenue\"]\n",
    "math_stat(megaline_region)"
   ]
  },
  {
   "cell_type": "markdown",
   "metadata": {},
   "source": [
    "Дисперсия по регионам на 13% больше дисперсии по Москве, это достаточно большая разница, хотя эмпирически есть все основания полагать, что выборки взяты из схожих по параметрам совокупностей. Однако, при настройке теста лучше указать параметр `equal_var = False` и выполнить подсчеты методом `scipy.stats.ttest_ind(array1, array2, equal_var)`"
   ]
  },
  {
   "cell_type": "code",
   "execution_count": 30,
   "metadata": {},
   "outputs": [
    {
     "name": "stdout",
     "output_type": "stream",
     "text": [
      "p-значение:  0.6966637640169093\n",
      "Не получилось отвергнуть нулевую гипотезу\n"
     ]
    }
   ],
   "source": [
    "# проверим нулевую гипотезу\n",
    "result_second_hipothesis = st.stats.ttest_ind(megaline_moscow, megaline_region, equal_var=False)\n",
    "\n",
    "# тест односторонний: p-value будет в два раза меньше\n",
    "print(\"p-значение: \", result_second_hipothesis.pvalue)\n",
    "\n",
    "if (result_second_hipothesis.pvalue < alpha):\n",
    "    print(\"Отвергаем нулевую гипотезу\")\n",
    "else:\n",
    "    print(\"Не получилось отвергнуть нулевую гипотезу\")"
   ]
  },
  {
   "cell_type": "markdown",
   "metadata": {},
   "source": [
    "#### Вывод по второй паре гипотез:\n",
    "Полученное значение p-value говорит о том, что результат не является статистически значимым и мы не можем отвергнуть нулевую гипотезу в пользу альтернативной, это означает, что мы принимаем гипотезу: средняя выручка по Москве равна средней выручке по остальным регионам."
   ]
  },
  {
   "cell_type": "markdown",
   "metadata": {},
   "source": [
    "### 4.3 Выводы <a name='4.3'></a>  \n",
    "  \n",
    "В результате проверки статистической значимости гипотез мы приняли гипотезу о том, что средняя ежемесячная выручка с пользователя тарифа Ultra выше, чем с пользователя тарифа Smart. При этом чаще всего это не зависит от города проживания клиента, так как мы не смогли отвергнуть гипотезу, что средняя выручка по Москве и МО равна средней выручки по остальным регионам."
   ]
  },
  {
   "cell_type": "markdown",
   "metadata": {},
   "source": [
    "# Часть 5 Итоговые выводы исследования <a name='5'></a>  \n",
    "  \n",
    "Мы проанализировали услуги федерального оператора сотовой связи на выборке из 500 пользователей двух основных тарифов компании — Smart и Ultra. Предоставленные данные содержали информацию о продолжительности и количестве сделанных звонков, отправленных сообщений и использованного интернет-трафика, а также подробную информацию о пользователях и условиях тарифных планов.  \n",
    "  \n",
    "В результате проверки гипотез было выявлено, что с высокой статистической значимостью можно принять утверждение, что тарифный план Ultra выгоднее для компании с финансовой точки зрения. Поэтому **рекомендуем пересмотреть распределение рекламного бюджета в пользу тарифа Ultra. При этом можно масштабировать рекламные кампании за счет таргетированной рекламы, включая региональные рынки** для тарифа Ultra.  \n",
    "  \n",
    "В большинстве случаев пользователи тарифа Ultra значительно реже превышают ежемесячный лимит по тарифу, чем пользователи тарифа Smart. **Для создания новых и эмоциональных рекламных кампаний рекомендуем продолжить исследовать поведение клиентов** проверить гипотезу: пользователи тарифа Smart расходуют больший объем услуг и приближаются к лимитам в первой половине \"тарифного\" месяца, а оставшееся время больше следят за расходами и начинают экономить минуты/сообщения/интернет. Для этого нужны дополнительные данные о дате списания оплаты по тарифу для каждого пользователя.   \n",
    "  \n",
    "В случае принятия гипотезы, в рекламных кампаниях можно задействовать инсайт \"я расходую большую часть лимита услуг связи в первой половине месяца, поэтому мне приходится следить за балансом и нервничать из-за невозможности спланировать бюджет заранее, было бы здорово не чувствовать ограничений и забыть о переплатах за мобильную связь\". Для таких клиентов переход на тариф Ultra может стать решением \"личной драмы\". Проверить эту гипотезу можно с помощью А/Б-теста.   \n",
    "  \n",
    "Также стоить отметить, что **\"поведение\" клиентов обоих тарифов схоже** и основная аудитория распределена относительно равномерно в диапазоне 220-700 минут разговора, 0-50 смс-сообщений и 11-25 Гб интернет-трафика. Можно в дальнейшем углубить исследование поведения клиентов, основываясь на гипотезе, что их основные потребности в объеме услуг одинаковы.  \n",
    "  \n",
    "**Рекомендуем рассмотреть стимулирующие акции в поддержку перехода лояльных клиентов из тарифа Smart в тариф Ultra**, при этом первоначально рекомендуем протестировать гипотезы, связанные с акциями на интернет-трафик, так как по предварительным исследованиям по этой статье чаще всего клиенты платят за услуги сверх лимита."
   ]
  },
  {
   "cell_type": "markdown",
   "metadata": {},
   "source": [
    "____\n",
    "**<center>[Перейти в начало исследования](#0)</center>**"
   ]
  }
 ],
 "metadata": {
  "kernelspec": {
   "display_name": "Python 3",
   "language": "python",
   "name": "python3"
  },
  "language_info": {
   "codemirror_mode": {
    "name": "ipython",
    "version": 3
   },
   "file_extension": ".py",
   "mimetype": "text/x-python",
   "name": "python",
   "nbconvert_exporter": "python",
   "pygments_lexer": "ipython3",
   "version": "3.8.3"
  }
 },
 "nbformat": 4,
 "nbformat_minor": 2
}
